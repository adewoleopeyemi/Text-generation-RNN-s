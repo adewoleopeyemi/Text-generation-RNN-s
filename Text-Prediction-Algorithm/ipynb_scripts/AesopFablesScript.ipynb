{
  "nbformat": 4,
  "nbformat_minor": 0,
  "metadata": {
    "colab": {
      "name": "AesopFables.ipynb",
      "provenance": [],
      "collapsed_sections": []
    },
    "kernelspec": {
      "name": "python3",
      "display_name": "Python 3"
    },
    "accelerator": "GPU"
  },
  "cells": [
    {
      "cell_type": "code",
      "metadata": {
        "id": "u2kNh9jkOSoX",
        "colab_type": "code",
        "colab": {}
      },
      "source": [
        "import re\n",
        "import tensorflow.keras as Keras\n",
        "\n",
        "Tokenizer =  Keras.preprocessing.text.Tokenizer\n",
        "\n",
        "filename = 'drive/My Drive/recurrentnetdataset.txt'\n",
        "\n",
        "with open(filename, encoding='utf-8-sig') as f:\n",
        "  text = f.read()"
      ],
      "execution_count": null,
      "outputs": []
    },
    {
      "cell_type": "code",
      "metadata": {
        "id": "Tuq9UL1MQ_hu",
        "colab_type": "code",
        "colab": {}
      },
      "source": [
        "seq_length = 20\n",
        "start_story = '|'*seq_length"
      ],
      "execution_count": null,
      "outputs": []
    },
    {
      "cell_type": "code",
      "metadata": {
        "id": "0lfDvPPdRNCL",
        "colab_type": "code",
        "colab": {}
      },
      "source": [
        "text = text.lower()\n",
        "text = start_story + text\n",
        "text = text.replace('\\n\\n\\n\\n\\n', start_story)\n",
        "text = text.replace('\\n', ' ')\n",
        "text = re.sub('  +', '. ', text).strip()\n",
        "text = text.replace('..', '.')\n",
        "\n",
        "text = re.sub('([!\"#$%&()*+,-./:;<=>?@[\\]^_`{|}~])', r' \\1 ', text)\n",
        "text = re.sub('\\s{2,}', ' ', text)"
      ],
      "execution_count": null,
      "outputs": []
    },
    {
      "cell_type": "code",
      "metadata": {
        "id": "of5kw6XpSO8r",
        "colab_type": "code",
        "colab": {}
      },
      "source": [
        "tokenizer = Tokenizer(char_level = False, filters = '')\n",
        "tokenizer.fit_on_texts([text])\n",
        "total_words = len(tokenizer.word_index)+1\n",
        "token_list = tokenizer.texts_to_sequences([text])[0]"
      ],
      "execution_count": null,
      "outputs": []
    },
    {
      "cell_type": "code",
      "metadata": {
        "id": "J_hSH69FSu4W",
        "colab_type": "code",
        "colab": {}
      },
      "source": [
        "import numpy as np\n",
        "np_utils = Keras.utils"
      ],
      "execution_count": null,
      "outputs": []
    },
    {
      "cell_type": "code",
      "metadata": {
        "id": "BuSL3eQzTPkV",
        "colab_type": "code",
        "colab": {}
      },
      "source": [
        "def generate_sequences(token_list, step):\n",
        "  x = []\n",
        "  y = []\n",
        "  for i in range(0, len(token_list)-seq_length, step):\n",
        "    x.append(token_list[i: i+seq_length])\n",
        "    y.append(token_list[i+seq_length])\n",
        "\n",
        "  y = np_utils.to_categorical(y, num_classes=total_words)\n",
        "\n",
        "  num_seq = len(x)\n",
        "\n",
        "  print('Number of sequneces: ', num_seq, '\\n')\n",
        "  return x ,y, num_seq"
      ],
      "execution_count": null,
      "outputs": []
    },
    {
      "cell_type": "code",
      "metadata": {
        "id": "CA76zOhQUYyd",
        "colab_type": "code",
        "colab": {
          "base_uri": "https://localhost:8080/",
          "height": 51
        },
        "outputId": "148045f0-25db-40c9-bfe6-99f26a2d49c1"
      },
      "source": [
        "step = 1\n",
        "seq_length = 20\n",
        "x, y, num_seq = generate_sequences(token_list, step)\n",
        "\n",
        "x_train = np.array(x)\n",
        "y = np.array(y)"
      ],
      "execution_count": null,
      "outputs": [
        {
          "output_type": "stream",
          "text": [
            "Number of sequneces:  58911 \n",
            "\n"
          ],
          "name": "stdout"
        }
      ]
    },
    {
      "cell_type": "code",
      "metadata": {
        "id": "ncYn-iy1c2XP",
        "colab_type": "code",
        "colab": {}
      },
      "source": [
        "Dense = Keras.layers.Dense\n",
        "LSTM = Keras.layers.LSTM\n",
        "Input = Keras.Input\n",
        "Embedding = Keras.layers.Embedding\n",
        "Dropout = Keras.layers.Dropout\n",
        "Model = Keras.models.Model"
      ],
      "execution_count": null,
      "outputs": []
    },
    {
      "cell_type": "code",
      "metadata": {
        "id": "QCUmiGeoaIbD",
        "colab_type": "code",
        "colab": {}
      },
      "source": [
        "n_units = 256\n",
        "embedding_size = 100\n",
        "\n",
        "text_in = Input(shape=(None,))\n",
        "x = Embedding(total_words, embedding_size)(text_in)\n",
        "x = LSTM(n_units)(x)\n",
        "x = Dropout(0.2)(x)\n",
        "text_out = Dense(total_words, activation='softmax')(x)"
      ],
      "execution_count": null,
      "outputs": []
    },
    {
      "cell_type": "code",
      "metadata": {
        "id": "ZfEPCVtaa8xZ",
        "colab_type": "code",
        "colab": {
          "base_uri": "https://localhost:8080/",
          "height": 323
        },
        "outputId": "748e873b-8434-4a22-b656-be3d5983f0e4"
      },
      "source": [
        "model = Model(text_in, text_out)\n",
        "model.summary()"
      ],
      "execution_count": null,
      "outputs": [
        {
          "output_type": "stream",
          "text": [
            "Model: \"functional_1\"\n",
            "_________________________________________________________________\n",
            "Layer (type)                 Output Shape              Param #   \n",
            "=================================================================\n",
            "input_1 (InputLayer)         [(None, None)]            0         \n",
            "_________________________________________________________________\n",
            "embedding (Embedding)        (None, None, 100)         488100    \n",
            "_________________________________________________________________\n",
            "lstm (LSTM)                  (None, 256)               365568    \n",
            "_________________________________________________________________\n",
            "dropout (Dropout)            (None, 256)               0         \n",
            "_________________________________________________________________\n",
            "dense (Dense)                (None, 4881)              1254417   \n",
            "=================================================================\n",
            "Total params: 2,108,085\n",
            "Trainable params: 2,108,085\n",
            "Non-trainable params: 0\n",
            "_________________________________________________________________\n"
          ],
          "name": "stdout"
        }
      ]
    },
    {
      "cell_type": "code",
      "metadata": {
        "id": "nnB42jX8bMX6",
        "colab_type": "code",
        "colab": {}
      },
      "source": [
        "RMSprop = Keras.optimizers.RMSprop\n",
        "opti = RMSprop(0.001)"
      ],
      "execution_count": null,
      "outputs": []
    },
    {
      "cell_type": "code",
      "metadata": {
        "id": "gaHiQUddbXaY",
        "colab_type": "code",
        "colab": {}
      },
      "source": [
        "model.compile(loss='categorical_crossentropy', optimizer=opti)"
      ],
      "execution_count": null,
      "outputs": []
    },
    {
      "cell_type": "code",
      "metadata": {
        "id": "6VEvwtvBbhNI",
        "colab_type": "code",
        "colab": {
          "base_uri": "https://localhost:8080/",
          "height": 3434
        },
        "outputId": "89e0b086-56fe-49cf-ff14-21046e12cb35"
      },
      "source": [
        "epochs = 100\n",
        "batch_size = 32\n",
        "model.fit(x = x_train, y =y, epochs = epochs, batch_size=batch_size, validation_data=None)"
      ],
      "execution_count": null,
      "outputs": [
        {
          "output_type": "stream",
          "text": [
            "Epoch 1/100\n",
            "1841/1841 [==============================] - 13s 7ms/step - loss: 5.2197\n",
            "Epoch 2/100\n",
            "1841/1841 [==============================] - 13s 7ms/step - loss: 4.8286\n",
            "Epoch 3/100\n",
            "1841/1841 [==============================] - 12s 7ms/step - loss: 4.6830\n",
            "Epoch 4/100\n",
            "1841/1841 [==============================] - 12s 7ms/step - loss: 4.5844\n",
            "Epoch 5/100\n",
            "1841/1841 [==============================] - 12s 7ms/step - loss: 4.5280\n",
            "Epoch 6/100\n",
            "1841/1841 [==============================] - 12s 7ms/step - loss: 4.5069\n",
            "Epoch 7/100\n",
            "1841/1841 [==============================] - 12s 7ms/step - loss: 4.4940\n",
            "Epoch 8/100\n",
            "1841/1841 [==============================] - 12s 7ms/step - loss: 4.5641\n",
            "Epoch 9/100\n",
            "1841/1841 [==============================] - 12s 7ms/step - loss: 4.6770\n",
            "Epoch 10/100\n",
            "1841/1841 [==============================] - 12s 7ms/step - loss: 4.8058\n",
            "Epoch 11/100\n",
            "1841/1841 [==============================] - 13s 7ms/step - loss: 4.9350\n",
            "Epoch 12/100\n",
            "1841/1841 [==============================] - 12s 7ms/step - loss: 5.0729\n",
            "Epoch 13/100\n",
            "1841/1841 [==============================] - 12s 7ms/step - loss: 5.2088\n",
            "Epoch 14/100\n",
            "1841/1841 [==============================] - 12s 7ms/step - loss: 5.2628\n",
            "Epoch 15/100\n",
            "1841/1841 [==============================] - 12s 7ms/step - loss: 5.2271\n",
            "Epoch 16/100\n",
            "1841/1841 [==============================] - 12s 7ms/step - loss: 5.1508\n",
            "Epoch 17/100\n",
            "1841/1841 [==============================] - 12s 7ms/step - loss: 5.0547\n",
            "Epoch 18/100\n",
            "1841/1841 [==============================] - 12s 7ms/step - loss: 4.9641\n",
            "Epoch 19/100\n",
            "1841/1841 [==============================] - 12s 7ms/step - loss: 4.8926\n",
            "Epoch 20/100\n",
            "1841/1841 [==============================] - 12s 7ms/step - loss: 4.7980\n",
            "Epoch 21/100\n",
            "1841/1841 [==============================] - 12s 7ms/step - loss: 4.7175\n",
            "Epoch 22/100\n",
            "1841/1841 [==============================] - 12s 7ms/step - loss: 4.6426\n",
            "Epoch 23/100\n",
            "1841/1841 [==============================] - 12s 7ms/step - loss: 4.5638\n",
            "Epoch 24/100\n",
            "1841/1841 [==============================] - 12s 7ms/step - loss: 4.4682\n",
            "Epoch 25/100\n",
            "1841/1841 [==============================] - 13s 7ms/step - loss: 4.3821\n",
            "Epoch 26/100\n",
            "1841/1841 [==============================] - 13s 7ms/step - loss: 4.3045\n",
            "Epoch 27/100\n",
            "1841/1841 [==============================] - 13s 7ms/step - loss: 4.2413\n",
            "Epoch 28/100\n",
            "1841/1841 [==============================] - 12s 7ms/step - loss: 4.1824\n",
            "Epoch 29/100\n",
            "1841/1841 [==============================] - 12s 7ms/step - loss: 4.1269\n",
            "Epoch 30/100\n",
            "1841/1841 [==============================] - 12s 7ms/step - loss: 4.0888\n",
            "Epoch 31/100\n",
            "1841/1841 [==============================] - 13s 7ms/step - loss: 4.0444\n",
            "Epoch 32/100\n",
            "1841/1841 [==============================] - 12s 7ms/step - loss: 4.0217\n",
            "Epoch 33/100\n",
            "1841/1841 [==============================] - 12s 7ms/step - loss: 3.9801\n",
            "Epoch 34/100\n",
            "1841/1841 [==============================] - 12s 7ms/step - loss: 3.9687\n",
            "Epoch 35/100\n",
            "1841/1841 [==============================] - 12s 7ms/step - loss: 3.9174\n",
            "Epoch 36/100\n",
            "1841/1841 [==============================] - 12s 7ms/step - loss: 3.8675\n",
            "Epoch 37/100\n",
            "1841/1841 [==============================] - 12s 7ms/step - loss: 3.8393\n",
            "Epoch 38/100\n",
            "1841/1841 [==============================] - 12s 7ms/step - loss: 3.8204\n",
            "Epoch 39/100\n",
            "1841/1841 [==============================] - 12s 7ms/step - loss: 3.8037\n",
            "Epoch 40/100\n",
            "1841/1841 [==============================] - 12s 7ms/step - loss: 3.7778\n",
            "Epoch 41/100\n",
            "1841/1841 [==============================] - 12s 7ms/step - loss: 3.7629\n",
            "Epoch 42/100\n",
            "1841/1841 [==============================] - 12s 7ms/step - loss: 3.7354\n",
            "Epoch 43/100\n",
            "1841/1841 [==============================] - 12s 7ms/step - loss: 3.7238\n",
            "Epoch 44/100\n",
            "1841/1841 [==============================] - 12s 7ms/step - loss: 3.7076\n",
            "Epoch 45/100\n",
            "1841/1841 [==============================] - 12s 7ms/step - loss: 3.6820\n",
            "Epoch 46/100\n",
            "1841/1841 [==============================] - 12s 7ms/step - loss: 3.6656\n",
            "Epoch 47/100\n",
            "1841/1841 [==============================] - 12s 7ms/step - loss: 3.6437\n",
            "Epoch 48/100\n",
            "1841/1841 [==============================] - 12s 7ms/step - loss: 3.6337\n",
            "Epoch 49/100\n",
            "1841/1841 [==============================] - 12s 7ms/step - loss: 3.6264\n",
            "Epoch 50/100\n",
            "1841/1841 [==============================] - 12s 7ms/step - loss: 3.6300\n",
            "Epoch 51/100\n",
            "1841/1841 [==============================] - 12s 7ms/step - loss: 3.6191\n",
            "Epoch 52/100\n",
            "1841/1841 [==============================] - 13s 7ms/step - loss: 3.6206\n",
            "Epoch 53/100\n",
            "1841/1841 [==============================] - 12s 7ms/step - loss: 3.5871\n",
            "Epoch 54/100\n",
            "1841/1841 [==============================] - 12s 7ms/step - loss: 3.5798\n",
            "Epoch 55/100\n",
            "1841/1841 [==============================] - 12s 7ms/step - loss: 3.5665\n",
            "Epoch 56/100\n",
            "1841/1841 [==============================] - 12s 7ms/step - loss: 3.5577\n",
            "Epoch 57/100\n",
            "1841/1841 [==============================] - 12s 7ms/step - loss: 3.5400\n",
            "Epoch 58/100\n",
            "1841/1841 [==============================] - 12s 7ms/step - loss: 3.5464\n",
            "Epoch 59/100\n",
            "1841/1841 [==============================] - 12s 7ms/step - loss: 3.5364\n",
            "Epoch 60/100\n",
            "1841/1841 [==============================] - 12s 7ms/step - loss: 3.5203\n",
            "Epoch 61/100\n",
            "1841/1841 [==============================] - 12s 7ms/step - loss: 3.5078\n",
            "Epoch 62/100\n",
            "1841/1841 [==============================] - 12s 7ms/step - loss: 3.5145\n",
            "Epoch 63/100\n",
            "1841/1841 [==============================] - 12s 7ms/step - loss: 3.5111\n",
            "Epoch 64/100\n",
            "1841/1841 [==============================] - 12s 7ms/step - loss: 3.5178\n",
            "Epoch 65/100\n",
            "1841/1841 [==============================] - 12s 7ms/step - loss: 3.5147\n",
            "Epoch 66/100\n",
            "1841/1841 [==============================] - 12s 7ms/step - loss: 3.5048\n",
            "Epoch 67/100\n",
            "1841/1841 [==============================] - 12s 7ms/step - loss: 3.5024\n",
            "Epoch 68/100\n",
            "1841/1841 [==============================] - 12s 7ms/step - loss: 3.4934\n",
            "Epoch 69/100\n",
            "1841/1841 [==============================] - 12s 7ms/step - loss: 3.4851\n",
            "Epoch 70/100\n",
            "1841/1841 [==============================] - 12s 7ms/step - loss: 3.4790\n",
            "Epoch 71/100\n",
            "1841/1841 [==============================] - 12s 7ms/step - loss: 3.4611\n",
            "Epoch 72/100\n",
            "1841/1841 [==============================] - 12s 7ms/step - loss: 3.4464\n",
            "Epoch 73/100\n",
            "1841/1841 [==============================] - 12s 7ms/step - loss: 3.4542\n",
            "Epoch 74/100\n",
            "1841/1841 [==============================] - 12s 7ms/step - loss: 3.4599\n",
            "Epoch 75/100\n",
            "1841/1841 [==============================] - 13s 7ms/step - loss: 3.4642\n",
            "Epoch 76/100\n",
            "1841/1841 [==============================] - 12s 7ms/step - loss: 3.4571\n",
            "Epoch 77/100\n",
            "1841/1841 [==============================] - 13s 7ms/step - loss: 3.4657\n",
            "Epoch 78/100\n",
            "1841/1841 [==============================] - 12s 7ms/step - loss: 3.4441\n",
            "Epoch 79/100\n",
            "1841/1841 [==============================] - 12s 7ms/step - loss: 3.4305\n",
            "Epoch 80/100\n",
            "1841/1841 [==============================] - 12s 7ms/step - loss: 3.4265\n",
            "Epoch 81/100\n",
            "1841/1841 [==============================] - 12s 7ms/step - loss: 3.4040\n",
            "Epoch 82/100\n",
            "1841/1841 [==============================] - 12s 7ms/step - loss: 3.3971\n",
            "Epoch 83/100\n",
            "1841/1841 [==============================] - 12s 7ms/step - loss: 3.4150\n",
            "Epoch 84/100\n",
            "1841/1841 [==============================] - 12s 7ms/step - loss: 3.4140\n",
            "Epoch 85/100\n",
            "1841/1841 [==============================] - 12s 7ms/step - loss: 3.3987\n",
            "Epoch 86/100\n",
            "1841/1841 [==============================] - 12s 7ms/step - loss: 3.3911\n",
            "Epoch 87/100\n",
            "1841/1841 [==============================] - 12s 7ms/step - loss: 3.3857\n",
            "Epoch 88/100\n",
            "1841/1841 [==============================] - 12s 7ms/step - loss: 3.3726\n",
            "Epoch 89/100\n",
            "1841/1841 [==============================] - 12s 7ms/step - loss: 3.3705\n",
            "Epoch 90/100\n",
            "1841/1841 [==============================] - 12s 7ms/step - loss: 3.3722\n",
            "Epoch 91/100\n",
            "1841/1841 [==============================] - 12s 7ms/step - loss: 3.3668\n",
            "Epoch 92/100\n",
            "1841/1841 [==============================] - 12s 7ms/step - loss: 3.3768\n",
            "Epoch 93/100\n",
            "1841/1841 [==============================] - 12s 7ms/step - loss: 3.3808\n",
            "Epoch 94/100\n",
            "1841/1841 [==============================] - 12s 7ms/step - loss: 3.3759\n",
            "Epoch 95/100\n",
            "1841/1841 [==============================] - 12s 7ms/step - loss: 3.3815\n",
            "Epoch 96/100\n",
            "1841/1841 [==============================] - 12s 7ms/step - loss: 3.3680\n",
            "Epoch 97/100\n",
            "1841/1841 [==============================] - 12s 7ms/step - loss: 3.3448\n",
            "Epoch 98/100\n",
            "1841/1841 [==============================] - 12s 7ms/step - loss: 3.3370\n",
            "Epoch 99/100\n",
            "1841/1841 [==============================] - 12s 7ms/step - loss: 3.3220\n",
            "Epoch 100/100\n",
            "1841/1841 [==============================] - 13s 7ms/step - loss: 3.3193\n"
          ],
          "name": "stdout"
        },
        {
          "output_type": "execute_result",
          "data": {
            "text/plain": [
              "<tensorflow.python.keras.callbacks.History at 0x7f48b31a6c18>"
            ]
          },
          "metadata": {
            "tags": []
          },
          "execution_count": 15
        }
      ]
    },
    {
      "cell_type": "code",
      "metadata": {
        "id": "oLdogN2NbxQ0",
        "colab_type": "code",
        "colab": {}
      },
      "source": [
        "def sample_with_temp(preds, temperature=1.0):\n",
        "  preds = np.asarray(preds).astype('float64')\n",
        "  preds = np.log(preds)/temperature\n",
        "  exp_preds = np.exp(preds)\n",
        "  preds = exp_preds/np.sum(exp_preds)\n",
        "  probs = np.random.multinomial(1, preds, 1)\n",
        "  return np.argmax(probs)\n",
        "\n",
        "def generate_text(seed_text, next_words, model, max_sequence_len, temp):\n",
        "  output_text = seed_text\n",
        "  seed_text = start_story + seed_text\n",
        "  print(seed_text)\n",
        "\n",
        "  for _ in range(next_words):\n",
        "    token_list = tokenizer.texts_to_sequences([seed_text])[0]\n",
        "    token_list = token_list[-max_sequence_len:]\n",
        "    token_list = np.reshape(token_list, (1, max_sequence_len))\n",
        "\n",
        "    probs = model.predict(token_list, verbose=0)[0]\n",
        "    y_class = sample_with_temp(probs, temperature=temp)\n",
        "    output_word = tokenizer.index_word[y_class] if y_class >0 else ''\n",
        "\n",
        "    if output_word == '|':\n",
        "      break\n",
        "    seed_text +=  output_word + ' '\n",
        "    output_text += ' ' + output_word\n",
        "\n",
        "  return output_text"
      ],
      "execution_count": null,
      "outputs": []
    },
    {
      "cell_type": "code",
      "metadata": {
        "id": "0CYcw_EeBG5w",
        "colab_type": "code",
        "colab": {
          "base_uri": "https://localhost:8080/",
          "height": 256
        },
        "outputId": "e82e4010-a29d-4667-c313-bbda953e37b6"
      },
      "source": [
        "generate_text('the ass and his lion ', 500, model, 1, 0.3)"
      ],
      "execution_count": null,
      "outputs": [
        {
          "output_type": "stream",
          "text": [
            "||||||||||||||||||||the ass and his lion \n"
          ],
          "name": "stdout"
        },
        {
          "output_type": "execute_result",
          "data": {
            "application/vnd.google.colaboratory.intrinsic+json": {
              "type": "string"
            },
            "text/plain": [
              "'the ass and his lion  so all about before about the like about before about before came to all about one it all about before about one it all at all came to so all about before about one it there so all at came to out one it there that by one it all about to without found along so all again , out one it there at before about before about the like about one it all at all about before about put just at the like came to all about one it all too all about before came to so all as well , out all came to so all about one it all about one it all too all at all about before about one it all about one it all about one it all the like came to without found along so all at all at caught no one it all at all about one it there it all at the like came to no one it all at all about one it all at all about before about one it all at caught only without found along so well , without found along so well , out all at all at came to so about all about one it all about one it all at all before about one it all at set : will like about all out one it all about one it all again , without found along so well , out all too all about before about before about one it there it no like about one it all at turned as well , out all about one it all about one it all about again , without found about the like fell what out all at set to at all about before about before about before about the like about the than by one it all before about before about one it all again , out one it all at caught only without found about after came to so from turned the like came to so from turned the like turned the like out one it all about to all again , out all again , out one it all at all the like about before about the like about one it all too all about went it all at all at all about one it all at turned the like about before about one it all too all at all at all about one it there so all at caught no one it all about to so well , out one it all about before about all about before about to at turned the like about one it all as well , out one it all along so all about one it all about to without found along so well , out all about one it all at all about before about to so well , out one it all at turned the like came to all about before about before about one'"
            ]
          },
          "metadata": {
            "tags": []
          },
          "execution_count": 65
        }
      ]
    },
    {
      "cell_type": "code",
      "metadata": {
        "id": "bz2tZRxGLBjH",
        "colab_type": "code",
        "colab": {
          "base_uri": "https://localhost:8080/",
          "height": 256
        },
        "outputId": "b7a44c19-08af-4d16-8d3e-3e2beb421fe6"
      },
      "source": [
        "generate_text('the ass and his lion ', 500, model, 1, 0.4)"
      ],
      "execution_count": null,
      "outputs": [
        {
          "output_type": "stream",
          "text": [
            "||||||||||||||||||||the ass and his lion \n"
          ],
          "name": "stdout"
        },
        {
          "output_type": "execute_result",
          "data": {
            "application/vnd.google.colaboratory.intrinsic+json": {
              "type": "string"
            },
            "text/plain": [
              "'the ass and his lion  so without found out one it all before about after came to so how about before about one it all about one it all too all came to so all at turned as got the that by that by so well , out all the like came to all again , out all too all about just at all before came to so all too all at set don\\'t at got the like came to so without found about before about after came to so all without found along so without found along so before about the that by the that , at came to so well , out all at all along so all without which at set : without at got all as well , out one it all too all about the like about the like came to without found about before about before about fell what up one it all too all at so all and on turned as well , out it all again , out all too all as well , all again , out all too all about to all the like out all again , out all came to all the like came \" all at heard the like turned the like a , without found about before came to turned the like came to all about before out all as again , that at came to so without found along so from turned the like about to so all before about before came to no like about the than about before came to so all without found along so well all too all too all who it all along so well , out all about the like about before about before out one it no like came so without at all about to all and on just out one it all about one it all along so well , without found along when the by the like a of at all the like about there that along when , out all about one it all without found along so without found along so well , without found about to so without which at turned the like turned the like , without found along so without found about before caught only from turned the like down so all about , without found out all at came to all about the like out all without found went it all as got the like under found about before about one it all about all the like about fell what out some one it all about one it all from came to all about one it all at came to at all at all and at all as well , out all like , without found along so well all too all at before about again , out one it all at all about after came to without found about before about one it all again , out all as well , out it there'"
            ]
          },
          "metadata": {
            "tags": []
          },
          "execution_count": 66
        }
      ]
    },
    {
      "cell_type": "code",
      "metadata": {
        "id": "v0vbwSiPTov1",
        "colab_type": "code",
        "colab": {
          "base_uri": "https://localhost:8080/",
          "height": 256
        },
        "outputId": "cfe2a525-bd61-4ac7-e893-c1d1b8507888"
      },
      "source": [
        "generate_text('the ass and his lion ', 500, model, 1, 0.5)"
      ],
      "execution_count": null,
      "outputs": [
        {
          "output_type": "stream",
          "text": [
            "||||||||||||||||||||the ass and his lion \n"
          ],
          "name": "stdout"
        },
        {
          "output_type": "execute_result",
          "data": {
            "application/vnd.google.colaboratory.intrinsic+json": {
              "type": "string"
            },
            "text/plain": [
              "'the ass and his lion  so from turned the like came to without found along too all about one it all again , without found about all at the like about the one it so all as turned the like out one it all as well , out there some one it there that on turned as put just on turned the like turned for at all too all at before about set like a like came to without found about before about just at all again , without that on so than about one it all about one it all came to so well , without found about got a like turned as well , out one it all came to at heard the like about the than out all at all the like came to turned the like a than out all about the like along so well , without the like turned for about all from turned to so without found did came so all about before about before about to so all about before out all too all at came to so all about just as well , out some one it all came to so no one it all at came to all before about all at all came only without found out an like heard the than by no ; without at came to all along so well , out all as well , to at caught what on the like about before about one it there some like came to just at without found about one it all turned the like came to turned as again , out one it all about one it all on fell what out so without on turned for on turned as again , out one there that , without found along so all as again , out all about to without at came to no there so before about the than at turned off one it all about before about before out there some one it all again , out there that by the than about again i what out all like about to all about one it all too your like out one it all about one it all about too all along when , out one it all as without on the like came to without at the to so all as made caught no like a like came to so there that up one some one it all about the like at set : without found along so how out all again , out there it all like on just at all about the like about the like about one it no one it there so before came to all about before out one it all at all again , out it all about fell there some one it all the like about put too my , without the like out it all too all too it all the like turned the like set : without found about just'"
            ]
          },
          "metadata": {
            "tags": []
          },
          "execution_count": 68
        }
      ]
    },
    {
      "cell_type": "code",
      "metadata": {
        "id": "3zS9pQ-2Ty-L",
        "colab_type": "code",
        "colab": {
          "base_uri": "https://localhost:8080/",
          "height": 256
        },
        "outputId": "2cf48813-0ec6-4c33-96b5-2e49b367442e"
      },
      "source": [
        "generate_text('the ass and his lion ', 500, model, 1, 0.55)"
      ],
      "execution_count": null,
      "outputs": [
        {
          "output_type": "stream",
          "text": [
            "||||||||||||||||||||the ass and his lion \n"
          ],
          "name": "stdout"
        },
        {
          "output_type": "execute_result",
          "data": {
            "application/vnd.google.colaboratory.intrinsic+json": {
              "type": "string"
            },
            "text/plain": [
              "'the ass and his lion  so all about the like about one it all as again , out it all about to all came to all before about before about came to so this she for out all about one it there it all at turned at caught no one there that at so this no one it all too all about again , to just at caught no like along so all about after came to turned as got the without found about to so all on the like about before about one it all again , without which at came to so on the like fell to without out all without found about the by that on turned the like about without the at set have no like came to so all too all about before came and at without found about one it so well , out all about again your too all at got the one there a like came to so all came not so without found thought he so from came no like turned at caught there so well , out one it all came the at all at only by just at like turned the like a like found along when the like under found along so well , without at turned as found about after came so all out one it all at so well , at turned the like turned the so from turned and at turned at all at without at all that by that by the like about a like came to which at turned the than about one it no like under thought the like found about then the , that on turned the like about just at without found along so without found along well , one it all that at came to so well , out there as again , without found along so what out one it there it all as well , out one there it so without a like a like out there it all again , out one it all fell if on who so like came to so without on turned the like came to so without found went it all at so all again , out all about after turned the like a like , out it no before came to so well , without found along so all about again , out one it there an at caught what up went what out one it all at turned the than upon turned for on the like fell to so well all at got the that by that by there an : came only out one it all too all again , out i like found turned as fell what on as got from came so than out all at long well all came for the well , on turned and on caught no there that on so well , without found thought came only heard the like along when the like caught only without'"
            ]
          },
          "metadata": {
            "tags": []
          },
          "execution_count": 69
        }
      ]
    },
    {
      "cell_type": "code",
      "metadata": {
        "id": "jRtfHNT7UEAu",
        "colab_type": "code",
        "colab": {
          "base_uri": "https://localhost:8080/",
          "height": 256
        },
        "outputId": "7a0781fb-706c-448d-fc8c-85b04030f679"
      },
      "source": [
        "generate_text('the ass and his lion ', 500, model, 1, 0.6)"
      ],
      "execution_count": null,
      "outputs": [
        {
          "output_type": "stream",
          "text": [
            "||||||||||||||||||||the ass and his lion \n"
          ],
          "name": "stdout"
        },
        {
          "output_type": "execute_result",
          "data": {
            "application/vnd.google.colaboratory.intrinsic+json": {
              "type": "string"
            },
            "text/plain": [
              "'the ass and his lion  no one it all at turned the like about caught do without came to so well , out one it there my like came to without which in well , to all came to all at turned for on looked all as again all turned the like turned the once as well all the , off there some one it all found along so men all came to so all at found went it there that on turned off so all came to so all without at caught only from turned his that by well , than from turned the like about one it that on did came have at caught no like heard the than out all at all and at all at all about to all about the like out my like came to all before about without that , without a than about too all at asked if from turned at like set what out so all as well , out one it all again i one it all without on went there so before found thought came to no one it all too all came there there that by as well , off so well , without found would like turned as got the by that by the of at got the like came to so all at without found along so before about one it all again , without found about again , out there that on turned and at just at heard the so without at caught you all : came to without a like came to then the that by the or at after heard the like came , that in just at came do like along as got the for at turned the like turned out so this so from turned the for out one it when that at without a well , without found day the that in very like turned the like came to all as all before about before out there so before about after came to at turned as got all turned off one it all about long she ; without on did again , by one it it so well , out one it all at round then on put ! without found at caught no one it this so without found out there some one there that by that from found did as well , out one it it no of so off so well , all about too all at found about before came \" all about too all just at saw went the , about one it all who it all about again i what about before that by the like about again , out one it no again , ? all about after saw caught only by that by the like among turned and on fell all without which at like found went it so about one it there some one it all at like turned as found went it there that by'"
            ]
          },
          "metadata": {
            "tags": []
          },
          "execution_count": 70
        }
      ]
    },
    {
      "cell_type": "code",
      "metadata": {
        "id": "2wMzy7X8UMv5",
        "colab_type": "code",
        "colab": {
          "base_uri": "https://localhost:8080/",
          "height": 256
        },
        "outputId": "f0839164-da8f-42b9-aa8b-7426e320c631"
      },
      "source": [
        "generate_text('the ass and his lion ', 500, model, 1, 0.65)"
      ],
      "execution_count": null,
      "outputs": [
        {
          "output_type": "stream",
          "text": [
            "||||||||||||||||||||the ass and his lion \n"
          ],
          "name": "stdout"
        },
        {
          "output_type": "execute_result",
          "data": {
            "application/vnd.google.colaboratory.intrinsic+json": {
              "type": "string"
            },
            "text/plain": [
              "'the ass and his lion  there it all found about came to which by all about before out all about one it so before at caught no one it so among got one it all at all too all turned the so without which there there there it so than at turned at all as well all by so all to at the like turned from turned to without came to which at turned for on turned for came to without found along so than the like ran for out one it all came to so all too all too all about one it there that from turned for on turned out all about just at set to so all about after came to so that by so what up one it that at so like along better for together you all came to so from got the like about again , out some if out some one it all before turned off there so without out all about just at like turned at got the like came to so before thought the of so how about before the like at out all at all came only without at found out it all about before about one it all on without found about one it there some at set : should at before about where on which at all at all the than at so like about to at again , out there that , without just on along so all about got as looked all as well , to which on too all came the that about one it all as saw turned the like turned so without that into the one it so all again i all along so all the that by too it no , without turned the that on let so men that on the than from turned \" all again , : should so without found along when out it all along now , again , without found along so well , out so one so nothing when the like too all at turned the like about to so than about the at all too i what came to so this there an old ; more at all got it all ; without about without found along so too all got the like along so only about before about one it all at found about all again , without found out all at set for on too i all before about the like found along the like out you one there so before caught no one it all as again , without found about all at all at without turned for at good without a like came to all about before about after found about after turned the only about before found along one so well , ? did came to all who it no too all after turned before about where by well , that by just on one it all before that up one it so that'"
            ]
          },
          "metadata": {
            "tags": []
          },
          "execution_count": 71
        }
      ]
    },
    {
      "cell_type": "code",
      "metadata": {
        "id": "TS3DJrJFUWH1",
        "colab_type": "code",
        "colab": {
          "base_uri": "https://localhost:8080/",
          "height": 256
        },
        "outputId": "3db86113-696c-4c8a-a841-34baf812d341"
      },
      "source": [
        "generate_text('the ass and his lion ', 500, model, 1, 0.7)"
      ],
      "execution_count": null,
      "outputs": [
        {
          "output_type": "stream",
          "text": [
            "||||||||||||||||||||the ass and his lion \n"
          ],
          "name": "stdout"
        },
        {
          "output_type": "execute_result",
          "data": {
            "application/vnd.google.colaboratory.intrinsic+json": {
              "type": "string"
            },
            "text/plain": [
              "'the ass and his lion  no before about put just like out one it all at caught only again , from got all about again , in just at set have lost came to no again . will like up only without found along the like about again , out when , from came to out the so about turned the like fell a too all too all along so about before turned when the than out all about put just from found dog she ; without on found along that , over went there so without found did came if into the like about to so from got the like a like fell if on out all out so without that on too all who so without a than along so men , on along not when that by got as well all again i all as set when , from turned the as well all about caught only without a has about after fell there an like at fell it only in only without found along now , one there all too all without found heard the like came be before about one so before found went what out there some one it all before about before about well your too all at fell what out it all before at set if on so all as again , at once when that by caught only without found along so off so all too all for out all round before found in well , all along so well , himself there so without a like by which by found about one it so off so among turned the too that at all at caught ? all without turned the like under came no one it all about one it so all right all about again this there so under then the like came to out it all at came to so than by so all like about caught do without a like turned the one there that from caught only without came to at caught do without which from too this so from turned to like fell what out no before all again , without on turned to so all at got the than about caught only from turned at put before out it some one it so at caught if on turned the like under came \" all so well , of as about one it there there it all came to at too all at all came \" all for away , out it there that on the like came to at no like came to no there there that on had which at caught no before about long there it all about before about where about as again , on before not so than out all without which , off there that by found went it all too all without at caught how about one it no at all again , out all the . came the that from turned no'"
            ]
          },
          "metadata": {
            "tags": []
          },
          "execution_count": 72
        }
      ]
    },
    {
      "cell_type": "code",
      "metadata": {
        "id": "rPo0noDUUgp-",
        "colab_type": "code",
        "colab": {
          "base_uri": "https://localhost:8080/",
          "height": 256
        },
        "outputId": "83d1825f-60b4-4460-d8bd-e91ab9029118"
      },
      "source": [
        "generate_text('the ass and his lion ', 500, model, 1, 0.75)"
      ],
      "execution_count": null,
      "outputs": [
        {
          "output_type": "stream",
          "text": [
            "||||||||||||||||||||the ass and his lion \n"
          ],
          "name": "stdout"
        },
        {
          "output_type": "execute_result",
          "data": {
            "application/vnd.google.colaboratory.intrinsic+json": {
              "type": "string"
            },
            "text/plain": [
              "'the ass and his lion  so all just on had before about after fell if on the like a like before about there so all at out there a well , on well , out some what had as only on before too all along so as the by that by that on caught no before out one it that on as well , from turned to no before may at came you all made where along so well , without like turned as well , out all without which at even caught how along when the like under came to all into turned no one there it no all down got the than up the like which for about set : should at all before again , without on too all one it no like about after turned before all about to so without on got a too if at came to all at all at came to without found about all at caught only about dogs all into the than out one it all about after came to so without heard the to without that about again , out all too like came to turned what came so from turned like about one there that on after found got as all about before about well , without heard the like about one what out one it no one it so well as again , without on turned the like about there so at so all for out they all without one it there all found are before about little so no like up went it no all at without found turned out all the like turned by without found about caught if by so without found out it all turned the like along so well all along caught we like turned a like fell what found along when , on too all again , at so before on out some to without at home the enough one it no one it what came so than out too all looked all so well , from again i like without found along so without on went what about before heard the like along caught do down one it no all out some one it all at the one it there that at came so from turned at all as got the one it all which at turned at came to one there so without found thought he so like at so no for at turned for into about every like about put just as well , out all just at turned for about one it all as well , to at and at before too my had as saw turned by so one so every at too all out one it all as turned out one it all along caught you all found the for on turned off when again , out no : without as well , no in just at all at came that on fell if into the like before the like'"
            ]
          },
          "metadata": {
            "tags": []
          },
          "execution_count": 73
        }
      ]
    },
    {
      "cell_type": "code",
      "metadata": {
        "id": "7W1pn6KMUs73",
        "colab_type": "code",
        "colab": {
          "base_uri": "https://localhost:8080/",
          "height": 256
        },
        "outputId": "ef9a1e63-566e-4cbf-bb13-064b7c8c0ecc"
      },
      "source": [
        "generate_text('the ass and his lion ', 500, model, 1, 0.8)"
      ],
      "execution_count": null,
      "outputs": [
        {
          "output_type": "stream",
          "text": [
            "||||||||||||||||||||the ass and his lion \n"
          ],
          "name": "stdout"
        },
        {
          "output_type": "execute_result",
          "data": {
            "application/vnd.google.colaboratory.intrinsic+json": {
              "type": "string"
            },
            "text/plain": [
              "'the ass and his lion  no so this she at all on just at all so that by one it all the like found along good without found thought all as again , on just away at got the like about one it all out it all out he what he no one it all that by that on too all about again , from turned for into the like got as thought himself all the than upon place every as well , to without at set to all at so well , without found along the like by my better when the to found went it there some to so all before saw dog him there some asked if on got then , without came the like turned out one that out all into the like a too my one there that on just at one it no like about found about the very you all the like out some one it there so men that on did came every on caught you all well all too all at than from turned by the like a again , on the ? off there when , in the that by just that by just out so from turned for first found when the like down one it no like along so at one it all the as again there so well there that on just up more as the like about before turned about one it there that by well they what off so that , and at got the of about the like came only from that on at turned to at which from turned as put not to not all on after came if by so any at got the again , without on so than on well , off there so well , up made called so this so men , more as got to turned the like about again , without which along the as fell ; without at turned for one it all too this so away , off there there so without the like about got the well , out one so how out well all before after turned the very like looked all as did fell what at all again i what on what along as all of at heard the like about set now , of just at got there in not so well , ! came only out one it all at first never as again , out some one what out you all saw little so every that , out one there that on turned the like found must all again , without found about set : again , out this so that home off there so at set now , on did went my one it all along so well , without on about the that by turned a like about one it all into turned by so without came better as went what out all to like about caught if by there it'"
            ]
          },
          "metadata": {
            "tags": []
          },
          "execution_count": 74
        }
      ]
    },
    {
      "cell_type": "code",
      "metadata": {
        "id": "aasQK0aUU5VA",
        "colab_type": "code",
        "colab": {
          "base_uri": "https://localhost:8080/",
          "height": 256
        },
        "outputId": "46937a36-16a0-40b3-fdd2-bb6e0cf5e91c"
      },
      "source": [
        "generate_text('the ass and his lion ', 500, model, 1, 0.9)"
      ],
      "execution_count": null,
      "outputs": [
        {
          "output_type": "stream",
          "text": [
            "||||||||||||||||||||the ass and his lion \n"
          ],
          "name": "stdout"
        },
        {
          "output_type": "execute_result",
          "data": {
            "application/vnd.google.colaboratory.intrinsic+json": {
              "type": "string"
            },
            "text/plain": [
              "'the ass and his lion  not there that , off one it all what under caught not so men well , and on got the of at turned the so home before caught if along so than about the like down went no there that on fell my king not a too all at all ; without long there so all again . set have all and on before that on went there , no like one it once this so well , for at came not all who them all at without found about set not all too it all at without found about one it there at up not so any at caught only without which upon man there no before put said jupiter there so all as well an at all again , out you all looked all came to turned at all the like , on without at first one an , a like before about means my has got the as about again , out so under thought one it no like turned the for thought he so about who the like came to all before too my very will all round at like went what by so all too all again you all into the of at caught got the like about one it so without heard the like without found about little so how out they what came to out himself all at after turned a of so all . came so all about again i what came to every by just as along caught she : set you one so well your at like on the for more at the than where over caught put just for all turned for about so well , off when , for among went my too all upon never at once as another all found found upon one it all at all not as replied there there so all without found back he so all about long what down one it all about again my ; did came after found under found along a that out his like upon went there you all at set to saw made where about made came who that by that , about one it no there there that up one it what out it so among replied then no at found along when the that by that at all to so all too all about one so than by once as set : came to without at fell you one there that up fell you all the of so all down one it all before about one it all at all as without turned as well all about about set too all the like came to out all for without which by as well all found along when the that on too all well that by so than from out there it not so set : came to so men , on without turned after found back there no ; home from too all the'"
            ]
          },
          "metadata": {
            "tags": []
          },
          "execution_count": 75
        }
      ]
    },
    {
      "cell_type": "code",
      "metadata": {
        "id": "SmZ8133SVI-l",
        "colab_type": "code",
        "colab": {
          "base_uri": "https://localhost:8080/",
          "height": 256
        },
        "outputId": "5d038d37-85ee-4c7c-87b2-a7809caf1d95"
      },
      "source": [
        "generate_text('the ass and his lion ', 500, model, 1, 1.3)"
      ],
      "execution_count": null,
      "outputs": [
        {
          "output_type": "stream",
          "text": [
            "||||||||||||||||||||the ass and his lion \n"
          ],
          "name": "stdout"
        },
        {
          "output_type": "execute_result",
          "data": {
            "application/vnd.google.colaboratory.intrinsic+json": {
              "type": "string"
            },
            "text/plain": [
              "'the ass and his lion  so without came you one she at before about before never at turned \" up how up put said he there in had when along for up one it so out an one it that by when of it so without off it all when , you all found again his why , that on without at so this so he so - all go one there some the for away that , without at before up so all another all too what a like about one that , from put so set when of at caught what found out one it all from now in all among came there some they what up if came to like off this then the , all about as again there an that is from off there an more it she : can at more a not so before replied then the just it well off all found about men that in him all turned it jupiter there he just and at have these , from got the in too my , it only without turned before off so without then by it a just that over put your , too my without found together we than turned without the than into the like upon sheep as set to the at got all at come little so without well there to lost too she what down had before down after turned a too no , on just on went there some what along so long from that just at came to just on turned as they what turned men all out all without that there a than the all without at other . got as before about where about long an then just never at just for the himself there as got when in as more his so how down no lost she ; without for at so at the hearing took the when time mouse there no all up ran all came we without on after heard have so all would well , from so if on his way some how down there so more there a like down fables at without under found the not round before were their so any than about again . made not at time the like turned came my ; without so no not one it all ; without on at where without found about at home off after saw goat king he to away not without found turned it so before out she ; without without came the like off just at not so men can\\'t ? again all another all at the town tried this so no the like down i one it there there a for at first you my again for good while how about they an , from too all up thought went what without all who him there it only of about after out all came is the one them that tree the like the as the like turned among'"
            ]
          },
          "metadata": {
            "tags": []
          },
          "execution_count": 76
        }
      ]
    },
    {
      "cell_type": "code",
      "metadata": {
        "id": "P3YX0vq1VRPZ",
        "colab_type": "code",
        "colab": {
          "base_uri": "https://localhost:8080/",
          "height": 256
        },
        "outputId": "53ad13fd-a14c-46c9-a3bc-907d999ff09c"
      },
      "source": [
        "generate_text('the ass and his lion ', 500, model, 1, 1.5)"
      ],
      "execution_count": null,
      "outputs": [
        {
          "output_type": "stream",
          "text": [
            "||||||||||||||||||||the ass and his lion \n"
          ],
          "name": "stdout"
        },
        {
          "output_type": "execute_result",
          "data": {
            "application/vnd.google.colaboratory.intrinsic+json": {
              "type": "string"
            },
            "text/plain": [
              "'the ass and his lion  no means his so off i take with had at much back if down so without away that about all the no her make too him he all came let much got the more a of up were one it all took dogs no of at like to so just from came \" them so than off she my ! came there so too bull . your just turned there your and on first who i there my , without about among just from again there as home before ran at at heard would now for into turned off who all after without found out if up one all before must like master if a and into turned at heard before in so this there like over then - so of caught then as found along then just it which at got as turned as ran it all after found went you one so no home , it his like before he so they , he what out replied one some because up work , that , of all first put than down he so that there so this so nothing when : should one it my better no what fell what at again that which at all lay an than on i\\'m - what a of got now well that about well and for from turned as without tried to without a first give if about there before took must so things so this , off there some one it at round a began to which there an is one it all come this much they what out then to at little so return he i oh if from came to not sat the voice no like came that like by all so without away i that before had in find turned from was one so at all again , up men no of two went what went that on caught i all while out all after found must on got the and at young at turned before about one some if on asked if on fell what too all nothing but about boy let other all again i nothing if and about time there a too this but on after seized fox my . out and on again i like what about tree then , my one my of so well like out \" all again . should said before came ! came two to she . she : found must by presently that about just the thing of so up as got the that to one so no there . well make dogs no one an ? off once what came electronic no what by very just with came to at without who the : came we free so well , without off so out home well their no one an that that on , if on came we that your like turned about men your like a time he all that about long so even well'"
            ]
          },
          "metadata": {
            "tags": []
          },
          "execution_count": 77
        }
      ]
    },
    {
      "cell_type": "code",
      "metadata": {
        "id": "tRTuVBQXVc2s",
        "colab_type": "code",
        "colab": {}
      },
      "source": [
        ""
      ],
      "execution_count": null,
      "outputs": []
    }
  ]
}