{
  "nbformat": 4,
  "nbformat_minor": 0,
  "metadata": {
    "colab": {
      "name": "Untitled11.ipynb",
      "provenance": []
    },
    "kernelspec": {
      "name": "python3",
      "display_name": "Python 3"
    },
    "accelerator": "GPU"
  },
  "cells": [
    {
      "cell_type": "code",
      "metadata": {
        "id": "GIeIJYI1rNIt",
        "colab_type": "code",
        "colab": {}
      },
      "source": [
        "import re\n",
        "import tensorflow.keras as Keras\n",
        "\n",
        "Tokenizer =  Keras.preprocessing.text.Tokenizer\n",
        "\n",
        "filename = 'drive/My Drive/depression.txt'\n",
        "\n",
        "with open(filename, encoding='utf-8-sig', errors='ignore') as f:\n",
        "  text = f.read()"
      ],
      "execution_count": 1,
      "outputs": []
    },
    {
      "cell_type": "code",
      "metadata": {
        "id": "NxKjbcAjrsaL",
        "colab_type": "code",
        "colab": {}
      },
      "source": [
        "seq_length = 20\n",
        "start_story = '|'*seq_length"
      ],
      "execution_count": 2,
      "outputs": []
    },
    {
      "cell_type": "code",
      "metadata": {
        "id": "XNfj7_o8sIqp",
        "colab_type": "code",
        "colab": {}
      },
      "source": [
        "text = text.lower()\n",
        "text = start_story + text\n",
        "text = text.replace('\\n\\n\\n\\n\\n', start_story)\n",
        "text = text.replace('\\n', ' ')\n",
        "text = re.sub('  +', '. ', text).strip()\n",
        "text = text.replace('..', '.')\n",
        "\n",
        "text = re.sub('([!\"#$%&()*+,-./:;<=>?@[\\]^_`{|}~])', r' \\1 ', text)\n",
        "text = re.sub('\\s{2,}', ' ', text)"
      ],
      "execution_count": 3,
      "outputs": []
    },
    {
      "cell_type": "code",
      "metadata": {
        "id": "vutBi3yBsK6H",
        "colab_type": "code",
        "colab": {}
      },
      "source": [
        "tokenizer = Tokenizer(char_level = False, filters = '')\n",
        "tokenizer.fit_on_texts([text])\n",
        "total_words = len(tokenizer.word_index)+1\n",
        "token_list = tokenizer.texts_to_sequences([text])[0]"
      ],
      "execution_count": 4,
      "outputs": []
    },
    {
      "cell_type": "code",
      "metadata": {
        "id": "ftFBpsdZsPGp",
        "colab_type": "code",
        "colab": {}
      },
      "source": [
        "import numpy as np\n",
        "np_utils = Keras.utils"
      ],
      "execution_count": 5,
      "outputs": []
    },
    {
      "cell_type": "code",
      "metadata": {
        "id": "tPqoVK0AsROp",
        "colab_type": "code",
        "colab": {}
      },
      "source": [
        "def generate_sequences(token_list, step):\n",
        "  x = []\n",
        "  y = []\n",
        "  for i in range(0, len(token_list)-seq_length, step):\n",
        "    x.append(token_list[i: i+seq_length])\n",
        "    y.append(token_list[i+seq_length])\n",
        "\n",
        "  y = np_utils.to_categorical(y, num_classes=total_words)\n",
        "\n",
        "  num_seq = len(x)\n",
        "\n",
        "  print('Number of sequneces: ', num_seq, '\\n')\n",
        "  return x ,y, num_seq"
      ],
      "execution_count": 6,
      "outputs": []
    },
    {
      "cell_type": "code",
      "metadata": {
        "id": "UJeBtMN5sVDn",
        "colab_type": "code",
        "colab": {
          "base_uri": "https://localhost:8080/",
          "height": 51
        },
        "outputId": "69e1b881-06d5-4dd5-d250-77ad58adbaa6"
      },
      "source": [
        "step = 1\n",
        "seq_length = 20\n",
        "x, y, num_seq = generate_sequences(token_list, step)\n",
        "\n",
        "x_train = np.array(x)\n",
        "y = np.array(y)"
      ],
      "execution_count": 7,
      "outputs": [
        {
          "output_type": "stream",
          "text": [
            "Number of sequneces:  56204 \n",
            "\n"
          ],
          "name": "stdout"
        }
      ]
    },
    {
      "cell_type": "code",
      "metadata": {
        "id": "A0KJlcqlsXdZ",
        "colab_type": "code",
        "colab": {}
      },
      "source": [
        "Dense = Keras.layers.Dense\n",
        "LSTM = Keras.layers.LSTM\n",
        "Input = Keras.Input\n",
        "Embedding = Keras.layers.Embedding\n",
        "Dropout = Keras.layers.Dropout\n",
        "Model = Keras.models.Model"
      ],
      "execution_count": 8,
      "outputs": []
    },
    {
      "cell_type": "code",
      "metadata": {
        "id": "lU6yqdCUscUv",
        "colab_type": "code",
        "colab": {}
      },
      "source": [
        "n_units = 256\n",
        "embedding_size = 100\n",
        "\n",
        "text_in = Input(shape=(None,))\n",
        "x = Embedding(total_words, embedding_size)(text_in)\n",
        "x = LSTM(n_units)(x)\n",
        "x = Dropout(0.2)(x)\n",
        "text_out = Dense(total_words, activation='softmax')(x)"
      ],
      "execution_count": 9,
      "outputs": []
    },
    {
      "cell_type": "code",
      "metadata": {
        "id": "V0oeEnpJse0p",
        "colab_type": "code",
        "colab": {
          "base_uri": "https://localhost:8080/",
          "height": 323
        },
        "outputId": "5a375036-4a84-40ec-9090-2d1877231758"
      },
      "source": [
        "model = Model(text_in, text_out)\n",
        "model.summary()"
      ],
      "execution_count": 10,
      "outputs": [
        {
          "output_type": "stream",
          "text": [
            "Model: \"functional_1\"\n",
            "_________________________________________________________________\n",
            "Layer (type)                 Output Shape              Param #   \n",
            "=================================================================\n",
            "input_1 (InputLayer)         [(None, None)]            0         \n",
            "_________________________________________________________________\n",
            "embedding (Embedding)        (None, None, 100)         594500    \n",
            "_________________________________________________________________\n",
            "lstm (LSTM)                  (None, 256)               365568    \n",
            "_________________________________________________________________\n",
            "dropout (Dropout)            (None, 256)               0         \n",
            "_________________________________________________________________\n",
            "dense (Dense)                (None, 5945)              1527865   \n",
            "=================================================================\n",
            "Total params: 2,487,933\n",
            "Trainable params: 2,487,933\n",
            "Non-trainable params: 0\n",
            "_________________________________________________________________\n"
          ],
          "name": "stdout"
        }
      ]
    },
    {
      "cell_type": "code",
      "metadata": {
        "id": "6ZjUbB11shrs",
        "colab_type": "code",
        "colab": {}
      },
      "source": [
        "RMSprop = Keras.optimizers.RMSprop\n",
        "opti = RMSprop(0.001)"
      ],
      "execution_count": 11,
      "outputs": []
    },
    {
      "cell_type": "code",
      "metadata": {
        "id": "4jRybEBtspJM",
        "colab_type": "code",
        "colab": {}
      },
      "source": [
        "model.compile(loss='categorical_crossentropy', optimizer=opti)"
      ],
      "execution_count": 12,
      "outputs": []
    },
    {
      "cell_type": "code",
      "metadata": {
        "id": "BNvV_ELIssxi",
        "colab_type": "code",
        "colab": {
          "base_uri": "https://localhost:8080/",
          "height": 1000
        },
        "outputId": "106ec100-df0a-479b-aaa7-f6a1188e0e1a"
      },
      "source": [
        "epochs = 100\n",
        "batch_size = 32\n",
        "model.fit(x = x_train, y =y, epochs = epochs, batch_size=batch_size, validation_data=None)"
      ],
      "execution_count": 13,
      "outputs": [
        {
          "output_type": "stream",
          "text": [
            "Epoch 1/100\n",
            "1757/1757 [==============================] - 13s 7ms/step - loss: 6.2393\n",
            "Epoch 2/100\n",
            "1757/1757 [==============================] - 12s 7ms/step - loss: 5.8561\n",
            "Epoch 3/100\n",
            "1757/1757 [==============================] - 12s 7ms/step - loss: 5.6886\n",
            "Epoch 4/100\n",
            "1757/1757 [==============================] - 12s 7ms/step - loss: 5.5615\n",
            "Epoch 5/100\n",
            "1757/1757 [==============================] - 12s 7ms/step - loss: 5.4608\n",
            "Epoch 6/100\n",
            "1757/1757 [==============================] - 12s 7ms/step - loss: 5.4265\n",
            "Epoch 7/100\n",
            "1757/1757 [==============================] - 12s 7ms/step - loss: 5.4268\n",
            "Epoch 8/100\n",
            "1757/1757 [==============================] - 12s 7ms/step - loss: 5.4464\n",
            "Epoch 9/100\n",
            "1757/1757 [==============================] - 12s 7ms/step - loss: 5.5149\n",
            "Epoch 10/100\n",
            "1757/1757 [==============================] - 12s 7ms/step - loss: 5.5785\n",
            "Epoch 11/100\n",
            "1757/1757 [==============================] - 12s 7ms/step - loss: 5.7357\n",
            "Epoch 12/100\n",
            "1757/1757 [==============================] - 12s 7ms/step - loss: 5.9430\n",
            "Epoch 13/100\n",
            "1757/1757 [==============================] - 12s 7ms/step - loss: 6.0549\n",
            "Epoch 14/100\n",
            "1757/1757 [==============================] - 12s 7ms/step - loss: 6.1395\n",
            "Epoch 15/100\n",
            "1757/1757 [==============================] - 12s 7ms/step - loss: 6.1588\n",
            "Epoch 16/100\n",
            "1757/1757 [==============================] - 12s 7ms/step - loss: 6.1816\n",
            "Epoch 17/100\n",
            "1757/1757 [==============================] - 12s 7ms/step - loss: 6.1869\n",
            "Epoch 18/100\n",
            "1757/1757 [==============================] - 12s 7ms/step - loss: 6.1467\n",
            "Epoch 19/100\n",
            "1757/1757 [==============================] - 12s 7ms/step - loss: 6.1068\n",
            "Epoch 20/100\n",
            "1757/1757 [==============================] - 12s 7ms/step - loss: 6.0314\n",
            "Epoch 21/100\n",
            "1757/1757 [==============================] - 12s 7ms/step - loss: 5.9430\n",
            "Epoch 22/100\n",
            "1757/1757 [==============================] - 12s 7ms/step - loss: 5.8679\n",
            "Epoch 23/100\n",
            "1757/1757 [==============================] - 12s 7ms/step - loss: 5.7728\n",
            "Epoch 24/100\n",
            "1757/1757 [==============================] - 12s 7ms/step - loss: 5.6940\n",
            "Epoch 25/100\n",
            "1757/1757 [==============================] - 12s 7ms/step - loss: 5.6580\n",
            "Epoch 26/100\n",
            "1757/1757 [==============================] - 13s 7ms/step - loss: 5.5964\n",
            "Epoch 27/100\n",
            "1757/1757 [==============================] - 12s 7ms/step - loss: 5.5488\n",
            "Epoch 28/100\n",
            "1757/1757 [==============================] - 12s 7ms/step - loss: 5.4747\n",
            "Epoch 29/100\n",
            "1757/1757 [==============================] - 12s 7ms/step - loss: 5.4253\n",
            "Epoch 30/100\n",
            "1757/1757 [==============================] - 12s 7ms/step - loss: 5.3605\n",
            "Epoch 31/100\n",
            "1757/1757 [==============================] - 12s 7ms/step - loss: 5.3124\n",
            "Epoch 32/100\n",
            "1757/1757 [==============================] - 12s 7ms/step - loss: 5.2607\n",
            "Epoch 33/100\n",
            "1757/1757 [==============================] - 12s 7ms/step - loss: 5.2131\n",
            "Epoch 34/100\n",
            "1757/1757 [==============================] - 12s 7ms/step - loss: 5.1733\n",
            "Epoch 35/100\n",
            "1757/1757 [==============================] - 12s 7ms/step - loss: 5.1328\n",
            "Epoch 36/100\n",
            "1757/1757 [==============================] - 12s 7ms/step - loss: 5.0801\n",
            "Epoch 37/100\n",
            "1757/1757 [==============================] - 12s 7ms/step - loss: 5.0563\n",
            "Epoch 38/100\n",
            "1757/1757 [==============================] - 12s 7ms/step - loss: 5.0138\n",
            "Epoch 39/100\n",
            "1757/1757 [==============================] - 12s 7ms/step - loss: 4.9732\n",
            "Epoch 40/100\n",
            "1757/1757 [==============================] - 12s 7ms/step - loss: 4.9546\n",
            "Epoch 41/100\n",
            "1757/1757 [==============================] - 12s 7ms/step - loss: 4.9155\n",
            "Epoch 42/100\n",
            "1757/1757 [==============================] - 12s 7ms/step - loss: 4.8804\n",
            "Epoch 43/100\n",
            "1757/1757 [==============================] - 12s 7ms/step - loss: 4.8587\n",
            "Epoch 44/100\n",
            "1757/1757 [==============================] - 12s 7ms/step - loss: 4.8253\n",
            "Epoch 45/100\n",
            "1757/1757 [==============================] - 12s 7ms/step - loss: 4.8137\n",
            "Epoch 46/100\n",
            "1757/1757 [==============================] - 12s 7ms/step - loss: 4.7701\n",
            "Epoch 47/100\n",
            "1757/1757 [==============================] - 12s 7ms/step - loss: 4.7560\n",
            "Epoch 48/100\n",
            "1757/1757 [==============================] - 12s 7ms/step - loss: 4.7096\n",
            "Epoch 49/100\n",
            "1757/1757 [==============================] - 12s 7ms/step - loss: 4.6770\n",
            "Epoch 50/100\n",
            "1757/1757 [==============================] - 12s 7ms/step - loss: 4.6503\n",
            "Epoch 51/100\n",
            "1757/1757 [==============================] - 13s 7ms/step - loss: 4.6133\n",
            "Epoch 52/100\n",
            "1757/1757 [==============================] - 12s 7ms/step - loss: 4.5932\n",
            "Epoch 53/100\n",
            "1757/1757 [==============================] - 12s 7ms/step - loss: 4.5498\n",
            "Epoch 54/100\n",
            "1757/1757 [==============================] - 12s 7ms/step - loss: 4.5439\n",
            "Epoch 55/100\n",
            "1757/1757 [==============================] - 12s 7ms/step - loss: 4.5142\n",
            "Epoch 56/100\n",
            "1757/1757 [==============================] - 12s 7ms/step - loss: 4.4871\n",
            "Epoch 57/100\n",
            "1757/1757 [==============================] - 12s 7ms/step - loss: 4.4619\n",
            "Epoch 58/100\n",
            "1757/1757 [==============================] - 12s 7ms/step - loss: 4.4374\n",
            "Epoch 59/100\n",
            "1757/1757 [==============================] - 12s 7ms/step - loss: 4.4176\n",
            "Epoch 60/100\n",
            "1757/1757 [==============================] - 12s 7ms/step - loss: 4.3871\n",
            "Epoch 61/100\n",
            "1757/1757 [==============================] - 12s 7ms/step - loss: 4.3698\n",
            "Epoch 62/100\n",
            "1757/1757 [==============================] - 12s 7ms/step - loss: 4.3503\n",
            "Epoch 63/100\n",
            "1757/1757 [==============================] - 12s 7ms/step - loss: 4.3288\n",
            "Epoch 64/100\n",
            "1757/1757 [==============================] - 12s 7ms/step - loss: 4.3226\n",
            "Epoch 65/100\n",
            "1757/1757 [==============================] - 12s 7ms/step - loss: 4.3054\n",
            "Epoch 66/100\n",
            "1757/1757 [==============================] - 12s 7ms/step - loss: 4.2928\n",
            "Epoch 67/100\n",
            "1757/1757 [==============================] - 12s 7ms/step - loss: 4.2891\n",
            "Epoch 68/100\n",
            "1757/1757 [==============================] - 12s 7ms/step - loss: 4.2853\n",
            "Epoch 69/100\n",
            "1757/1757 [==============================] - 12s 7ms/step - loss: 4.2584\n",
            "Epoch 70/100\n",
            "1757/1757 [==============================] - 12s 7ms/step - loss: 4.2567\n",
            "Epoch 71/100\n",
            "1757/1757 [==============================] - 12s 7ms/step - loss: 4.2305\n",
            "Epoch 72/100\n",
            "1757/1757 [==============================] - 12s 7ms/step - loss: 4.2038\n",
            "Epoch 73/100\n",
            "1757/1757 [==============================] - 12s 7ms/step - loss: 4.1954\n",
            "Epoch 74/100\n",
            "1757/1757 [==============================] - 12s 7ms/step - loss: 4.1703\n",
            "Epoch 75/100\n",
            "1757/1757 [==============================] - 12s 7ms/step - loss: 4.1491\n",
            "Epoch 76/100\n",
            "1757/1757 [==============================] - 12s 7ms/step - loss: 4.1186\n",
            "Epoch 77/100\n",
            "1757/1757 [==============================] - 13s 7ms/step - loss: 4.0986\n",
            "Epoch 78/100\n",
            "1757/1757 [==============================] - 12s 7ms/step - loss: 4.0863\n",
            "Epoch 79/100\n",
            "1757/1757 [==============================] - 12s 7ms/step - loss: 4.0809\n",
            "Epoch 80/100\n",
            "1757/1757 [==============================] - 12s 7ms/step - loss: 4.0625\n",
            "Epoch 81/100\n",
            "1757/1757 [==============================] - 12s 7ms/step - loss: 4.0684\n",
            "Epoch 82/100\n",
            "1757/1757 [==============================] - 12s 7ms/step - loss: 4.0588\n",
            "Epoch 83/100\n",
            "1757/1757 [==============================] - 12s 7ms/step - loss: 4.0638\n",
            "Epoch 84/100\n",
            "1757/1757 [==============================] - 12s 7ms/step - loss: 4.0465\n",
            "Epoch 85/100\n",
            "1757/1757 [==============================] - 12s 7ms/step - loss: 4.0524\n",
            "Epoch 86/100\n",
            "1757/1757 [==============================] - 12s 7ms/step - loss: 4.0655\n",
            "Epoch 87/100\n",
            "1757/1757 [==============================] - 12s 7ms/step - loss: 4.0347\n",
            "Epoch 88/100\n",
            "1757/1757 [==============================] - 12s 7ms/step - loss: 4.0457\n",
            "Epoch 89/100\n",
            "1757/1757 [==============================] - 12s 7ms/step - loss: 4.0502\n",
            "Epoch 90/100\n",
            "1757/1757 [==============================] - 12s 7ms/step - loss: 4.0383\n",
            "Epoch 91/100\n",
            "1757/1757 [==============================] - 12s 7ms/step - loss: 4.0395\n",
            "Epoch 92/100\n",
            "1757/1757 [==============================] - 12s 7ms/step - loss: 4.0233\n",
            "Epoch 93/100\n",
            "1757/1757 [==============================] - 12s 7ms/step - loss: 4.0058\n",
            "Epoch 94/100\n",
            "1757/1757 [==============================] - 12s 7ms/step - loss: 4.0051\n",
            "Epoch 95/100\n",
            "1757/1757 [==============================] - 12s 7ms/step - loss: 3.9883\n",
            "Epoch 96/100\n",
            "1757/1757 [==============================] - 12s 7ms/step - loss: 3.9867\n",
            "Epoch 97/100\n",
            "1757/1757 [==============================] - 12s 7ms/step - loss: 3.9702\n",
            "Epoch 98/100\n",
            "1757/1757 [==============================] - 12s 7ms/step - loss: 3.9598\n",
            "Epoch 99/100\n",
            "1757/1757 [==============================] - 12s 7ms/step - loss: 3.9492\n",
            "Epoch 100/100\n",
            "1757/1757 [==============================] - 12s 7ms/step - loss: 3.9359\n"
          ],
          "name": "stdout"
        },
        {
          "output_type": "execute_result",
          "data": {
            "text/plain": [
              "<tensorflow.python.keras.callbacks.History at 0x7fef07827ef0>"
            ]
          },
          "metadata": {
            "tags": []
          },
          "execution_count": 13
        }
      ]
    },
    {
      "cell_type": "code",
      "metadata": {
        "id": "uDufNRB8svvB",
        "colab_type": "code",
        "colab": {}
      },
      "source": [
        "def sample_with_temp(preds, temperature=1.0):\n",
        "  preds = np.asarray(preds).astype('float64')\n",
        "  preds = np.log(preds)/temperature\n",
        "  exp_preds = np.exp(preds)\n",
        "  preds = exp_preds/np.sum(exp_preds)\n",
        "  probs = np.random.multinomial(1, preds, 1)\n",
        "  return np.argmax(probs)\n",
        "\n",
        "def generate_text(seed_text, next_words, model, max_sequence_len, temp):\n",
        "  output_text = seed_text\n",
        "  seed_text = start_story + seed_text\n",
        "  print(seed_text)\n",
        "\n",
        "  for _ in range(next_words):\n",
        "    token_list = tokenizer.texts_to_sequences([seed_text])[0]\n",
        "    token_list = token_list[-max_sequence_len:]\n",
        "    token_list = np.reshape(token_list, (1, max_sequence_len))\n",
        "\n",
        "    probs = model.predict(token_list, verbose=0)[0]\n",
        "    y_class = sample_with_temp(probs, temperature=temp)\n",
        "    output_word = tokenizer.index_word[y_class] if y_class >0 else ''\n",
        "\n",
        "    if output_word == '|':\n",
        "      break\n",
        "    seed_text +=  output_word + ' '\n",
        "    output_text += ' ' + output_word\n",
        "\n",
        "  return output_text"
      ],
      "execution_count": 15,
      "outputs": []
    },
    {
      "cell_type": "code",
      "metadata": {
        "id": "T9sOOh9V701f",
        "colab_type": "code",
        "colab": {
          "base_uri": "https://localhost:8080/",
          "height": 154
        },
        "outputId": "b0a9ca2d-8cb4-4308-98d1-15b85e3a1ead"
      },
      "source": [
        "generate_text('what is the cause of depression ', 500, model, 1, 0.3)"
      ],
      "execution_count": 16,
      "outputs": [
        {
          "output_type": "stream",
          "text": [
            "||||||||||||||||||||what is the cause of depression \n"
          ],
          "name": "stdout"
        },
        {
          "output_type": "execute_result",
          "data": {
            "application/vnd.google.colaboratory.intrinsic+json": {
              "type": "string"
            },
            "text/plain": [
              "'what is the cause of depression  some about has when ; such as has when ; such as has when with ; such as ; has about about about about about about has about about about about has about about about about about about for that at during for for that at between for that at for for for ; can when with ; may when with ; has when ; has when with for for for for for for as has at over can when with ; with for that at between are during for ; with ; in with ; has about as has about for for ( if ; may for for for for for for for as has about about about has when with ; has about about about has about that at between may as has at as ; can when with during ( if ; has about about has about about about about about about for for ; with for ; has about about with ; in with ; in between are during ( if ; is during ( if ; for ( if ; can when for for with ; has ; can when with for that at between are during ( if ; such people with ; such as ; is during ( if ; may by between for from that at for for for for ; such general because of for ; such risk this at between for for for for with ; can when ; can when ; are during for from for ; may as has when ; may as has when with for ; can when for for for such as has about about for ; has about about has about for from for for for for as has about has when ; such general such as has about about about about : at during for with ; in during ( if ; may as ; such as has about about about about when with ; can when with for ; may when with for for for as has a over can when ; for ( if ; in between for ; in with ; in during for from for ; in between are during ( if ; has about about about about about about about has when ; such as has when ; are during has about about about about has when with ; are during ( if ; may as has about about about about has when ; in with for for ; has about has about about about for ( if ; for for for for for for for from for for ; has when with ; in with ; for for for for during ( if ; in during for ; such as has when with for for ; has about about about have ; has when with ; such general because of for for ; such as has ; can as has about for for that at during ('"
            ]
          },
          "metadata": {
            "tags": []
          },
          "execution_count": 16
        }
      ]
    },
    {
      "cell_type": "code",
      "metadata": {
        "id": "fgMObEXn7-ew",
        "colab_type": "code",
        "colab": {
          "base_uri": "https://localhost:8080/",
          "height": 154
        },
        "outputId": "35736498-719d-4c56-f515-a8635f2534b7"
      },
      "source": [
        "generate_text('what is the cause of depression ', 500, model, 1, 0.4)"
      ],
      "execution_count": 17,
      "outputs": [
        {
          "output_type": "stream",
          "text": [
            "||||||||||||||||||||what is the cause of depression \n"
          ],
          "name": "stdout"
        },
        {
          "output_type": "execute_result",
          "data": {
            "application/vnd.google.colaboratory.intrinsic+json": {
              "type": "string"
            },
            "text/plain": [
              "'what is the cause of depression  people with ; can . can as ; can when with ; in ; with such 2 social about about about such general because of for for for from during ( if ; has at about for for ; can when with ; such time this : at between are has about has at during ( if ; in with during ( if ; can when ; has about about about with ; in with ; are during for for for from for with ; has about about when for for for ; such general because of ; can when for as has when ; in between for during for from for from for ; for for for that at at between are during ( if ; has at between for ; may for for ; may by can when ; is during ( if ; can when ; in with for with for such as has about about about has ; such as has at for as has about about about when ; can when with for with for ; such as has ; has about about for ; has at as has ; is has about has about about about about has at over can when with for for for ; in can when is during ( if ; has about ; has about has about when with ; is during ( if ; is during ( if ; may it all at with for with ; such people with ; can when with ; can ; can when with for for for ; with for ; in with ; may as has at between are during for for for for ; has about has about about as has about has at between are during for from for ( if ; results depression people treatment this about that at during for with for ; in can when with at between for can ; for for for for ; such as of for that at as has a at between has through at over can as has at between for with such as ; may about if ; are during ( if ; is during for ; has about for ; has about about for ; can when with for ; for that at with ; in with ; in during ( if ; for that is during ( if ; can during ( if ; such as has about the during ( if ; are over can when ; such as ; are during ( if ; for with for for that at between are during ( if ; in at between may as has when with ; is during ( if ; has at during ( when ; can when with as has about when with ; can if ; for at at for for from for ; for for with for with ; for ; can when ; the through at as can for ; is'"
            ]
          },
          "metadata": {
            "tags": []
          },
          "execution_count": 17
        }
      ]
    },
    {
      "cell_type": "code",
      "metadata": {
        "id": "PhSQ9NWi8IhD",
        "colab_type": "code",
        "colab": {
          "base_uri": "https://localhost:8080/",
          "height": 154
        },
        "outputId": "35c286af-a5af-4693-c4ec-5a7d7132818b"
      },
      "source": [
        "generate_text('what is the cause of depression ', 500, model, 1, 0.5)"
      ],
      "execution_count": 18,
      "outputs": [
        {
          "output_type": "stream",
          "text": [
            "||||||||||||||||||||what is the cause of depression \n"
          ],
          "name": "stdout"
        },
        {
          "output_type": "execute_result",
          "data": {
            "application/vnd.google.colaboratory.intrinsic+json": {
              "type": "string"
            },
            "text/plain": [
              "'what is the cause of depression  this at between are during ; may when ; is can when ; such drug about about such risk this about about for ; may by between may it family depression people about for with ; such as ; are during ( if ; has about are between are during for for for with ; in when ; such general such ? individuals in with as has a between are during for for in by over can during for for from for ( when with for for for ; is during ( if ; such risk other many about has a over can when than in ; such anxiety some individuals in when for for with ; such time it cognitive over can when ; has about when with ; may as has : at between can when with ; may . for ; and can when with as has at by between for from for during ( if ; has about about has about that at during ( if ; has about has about with for for ; are during for for for with with can during ( if ; is during ( such as has about for can when ; can about has at during ( if ; may many some when than for during that at during ( if ; has at for as has a between are during ; such 10 all about ; in between has about such as has at as has at with ; the during for with for ; has about has at between for ( if ; may as ; with for as ; such general because of over has between for with as has at between are during ; for as has at between are during ( if ; may by between for from during about are during ( if ; is between for for for ; can as ; such 10 all at during that with for for for that is during for ; in during ( when with during for by that include for for with for that is during ( if or has about are during ( if ; such time it the during ( if ; such risk this about when with ; is can when with ; such as has when ; may by during for ; for as has about if ; that at by over can when ; may from that at as can for for such children this can during ( when for from for for ( if ; at between as has at as has about for for with for from has a between has about were for ; is has about about about when with ; such risk this can when with can . at as for with as has when with for ; may by that is because of can during ( if ; may in during for with ; for for for ; has when ; symptoms this'"
            ]
          },
          "metadata": {
            "tags": []
          },
          "execution_count": 18
        }
      ]
    },
    {
      "cell_type": "code",
      "metadata": {
        "id": "R_ino-3d8OzC",
        "colab_type": "code",
        "colab": {
          "base_uri": "https://localhost:8080/",
          "height": 154
        },
        "outputId": "82c2fa03-0b29-444b-fb9d-997f0d833814"
      },
      "source": [
        "generate_text('what is the cause of depression ', 2000, model, 1, 0.6)"
      ],
      "execution_count": 19,
      "outputs": [
        {
          "output_type": "stream",
          "text": [
            "||||||||||||||||||||what is the cause of depression \n"
          ],
          "name": "stdout"
        },
        {
          "output_type": "execute_result",
          "data": {
            "application/vnd.google.colaboratory.intrinsic+json": {
              "type": "string"
            },
            "text/plain": [
              "'what is the cause of depression  people with for with ; that at in with are because of for ( when ; for for for during can when ; for with ; such time they for ; can and ; has about ; in during for with as has at ; for ; can when for ; may by about are because of can for that ; has at for from for in at as has at for that about was can when ; has or in with ; are can when for that at : at about about for with for for from that symptoms it all at as ; can as ; is because of can when with for for for ; causes or ; at from with ; for may on for ; if ; in can when by with ; in during with ; are over such general because of ; for has about about about about for ; may and has it people life depression people all at over can ; at and ; has as has no between for from ; such as ; can during ( about in with ; has at about if ; may because of ; such particular those onset being there through over can when with may for from for ( if ; such risk this have at as at over can during ( over can if ; such 10 all at about as ; if ; is during ( if ; with as of ; such symptoms individuals it phobias . about about when with for ; are during for during for for from ; such people about about about are within that is during for with ; has about about : about it people they about about has at between for during ( if ; in on for for with than for for for for when with for for from for ; with for that at for with by for has or at between are during such general because of such 2 it cognitive include are because of include ( ; has about for from for ( if ; for ( if ; people about from for ( when with by during for from that at as has at for during ( if ; can it symptoms it people individuals in with ; are during from for for in during ( if ; such childhood depression people with ; can when ; in between for that with for for ; may when with with for that symptoms one when with at as has over has when with or during ; can when ; are over are has at between for with for from for for from during for for with ; is during for for for for with ; may . can when with ; such 7 it signaling because of for ; has about about about when ; such children it anxiety some about for such general . at with for ; is can during for with such psychology it early in between are about such risk other it people an that symptoms it low people all about has about has when at between for in ; in between for with ; for from can as : at about has when than for ; for that is was can when with with as can when ; at about during ( if ; for for that less individuals in with as for with ; for for for for for for ; for for for such need social whether than for from for from for ; can if ; in between for for for ( if ; with as has a over can when than for for for with ; such general changes in with with as for that at for during ( when ; with for for that changes emotion positive or at between for for with ; at about can if ; during ( if ; such risk this has about was can about are over from for with with for for that at during with ; in with ; can as can it psychology non all include or at as may when with during such depressive these as about for from that as has about about about for that with for ( if ; in over as has about about for with during that at about when by ; is has at for for for with with for ( if ; are during for ; such 10 all at during for that symptoms it low people being has when ; is during ; can when as will and ; has ; such general because of can as such as has ; can when with such time this is during ( at between is during ; as ; at between include for in during include such time they : may as will there is ; or at over can . about : at for for such risk this can when ; can when with for as has when for from over has ; such 15 this over can when with at that is during for from ; is during for that ; may by for ; at between for for ( if ; is during for for that symptoms many at between is has about that ; such as may for for include such time this is during ( when as has ; if ; has many about about were such 2 . can when ; for ( if ; may when as has about about has when with among about when with as has when at at for from for ; is will it bipolar when for from ( when at . if ; has at during for from during such as ; can when as ; are within for in over can when at about have ; may when for with for at during during ( when with ; for that is during ( if for ; are has a over can as can from for with as ; can as has at between can when ; for ; has when ; for ; such symptoms about about about about for with ; can when ; if ; has at when ; has about when with ; for for for with ; can from during ; in with during for between are about when with ; for for ; for ; can as has the such drug because of can when with as has the ; is can when for for from for from for ( if ; has about such 2 it anxiety these it anxiety these when for that : at with ; as has over include such as has about were in that is during for with for and ; with as ; are during ( if ; in ; is during for for from for ( such time this can when ; such as has about were for from for for for for that at at during during for ( if ; is during ( if who for for for for in that at as has on with ; are during ( if ; include for for for ; can when ; such specific individuals in between ( if ; for for ; as has ; for in can from for from that are during ( if ; for ( such general because of can as will it symptoms because of for for with such as has at at about has over can as can when with can such children some individuals in that at between for that has at with ; if ; are during for that symptoms it individuals in with ; can when ; in for from that is has the during for ; for from that is during ( if ; can during for with at as has at during than for for from that symptoms it psychology social about it depression research this about for by between is during ( if for for with ; in with for that is will if ; in between are during for such as between are during for from for for that at as for for ( if ; in ; may as has a about it people other when ; . has ; are during ( if or at between are during for that is during can were by between for during for . can when ; such drug include for with for for during for from at as has when for as has it family emotional about about about ; ; may by has when at between are if ; in with ( if with ; has [ at between are during ( if ; for for ; at with ; such general about when with ; in between for ; can from for such symptoms it about when with for during ( if ; may by during that at as ; that at between are during ( when for such depressive when with ; in ; may when ; they : at and at as of such as has it problems this is has when with ; such 2 it social about for ; has and at during ( if ; ; may as has at between has ; are during ( when with for with ; such as has about when ; in during for for between can when ; has : at during such low self an through at as ; may when ( if ; such general ; such general at between are between for as has about about such general because of over can during for for for for for ; such 2 it people many at between are during such general because of for from during for with ; with during for for with during for from for that at during ; for ( for ; may through from ; for ; for during include : at when with at between include for for ( during for ; in for ; are during for from for for that are during for with for ; are was has the ; has / at during ( if ; such as will one such 2 the during for with during for for that is has and are during such risk this can as ; in ; in with for that about about when with ; is has about about for ( if ; in about about about about such drug about is during for with that is over can ; for that at by ; such stress this over may it behavioral over has it a over can during ( when with ; such 12 which people all for for for that symptoms it some if is because of for for ( if for from ( when ; for for ; in for ; can ; for ; can when or as has when or at for for with ; has ; may as can during for for as ; can ; may for during ( if ; in during ( if ; for for for or at between for with ; such time it mental many other many about has as can if ; with that at between are within ; has between are during ( when for with ( during - through at from and at between is during from for ( if ; such 12 about are about about has at as has : at between as may about about has as has at during ( if ; may as has a at as can . has when for ( at about about for in ; may as has the over include that at for for for for from for in with ; such as ; such children cognitive during ( when for for for from that'"
            ]
          },
          "metadata": {
            "tags": []
          },
          "execution_count": 19
        }
      ]
    },
    {
      "cell_type": "code",
      "metadata": {
        "id": "UkHi8VCx8YX2",
        "colab_type": "code",
        "colab": {
          "base_uri": "https://localhost:8080/",
          "height": 154
        },
        "outputId": "dc4f7462-f533-4bdf-bb65-a690e2dca2a8"
      },
      "source": [
        "generate_text('what is the cause of depression ', 500, model, 1, 0.7)"
      ],
      "execution_count": 20,
      "outputs": [
        {
          "output_type": "stream",
          "text": [
            "||||||||||||||||||||what is the cause of depression \n"
          ],
          "name": "stdout"
        },
        {
          "output_type": "execute_result",
          "data": {
            "application/vnd.google.colaboratory.intrinsic+json": {
              "type": "string"
            },
            "text/plain": [
              "'what is the cause of depression  since about about are over such general because of such research this is ; such 37 certain individuals about have at during ( if ; as has alcohol or at when ; for during for with ; has at as has or over for for for for that is during ( if or over can as are during ( such general because of has about about for ; for during ( if ; with ; can by and by at when with between for as ; has in with for as has about about has : was may when with as has when as ; such risk other one social because of such as ; such general about that can as has the by between may when on ; causes and ; has a over for ( if ; if ; can when ; has a at during for with with ; for ; in over has when for has when ( if or it anxiety it bipolar when with with for that at with can during for that - include such 2 . can from for with ; has about about about are over has a major over can when with during ( if ; has at such time it people with for such as has about about such time it \" about when as can if ; is during ( if for at at at at about ; is during such general because of during ; is during during for in during ( if ; such drug about : at as ; the during ( if ; in are during ( over include in with can as has about about for ; are due to with ; for for is during has about when as ; but consequences those substance when ; for ( when at that with ; for during ( at between are during ( if with ; if ; the if ; may when for ; has when with at during ( if ; at with with ; has a over such life emotion low people all from that are because of is between may it psychology cognitive during at with ; such risk this may when with for as ; are was can . can . are during ( if ; in for that at during that with that can when ; in during ( if ; can for for with ; include for between that is during ( typically if ; such general because of can over . can from ; such general at and at as ; in during ; are during with from for by at in between are because of such as has , that symptoms it cognitive through over can when ; as has when with as ; has at during at between for with for as may for during for for by ; can when ; are has at by during for ; for for from ; the'"
            ]
          },
          "metadata": {
            "tags": []
          },
          "execution_count": 20
        }
      ]
    },
    {
      "cell_type": "code",
      "metadata": {
        "id": "VN9RI-Xm8tpC",
        "colab_type": "code",
        "colab": {
          "base_uri": "https://localhost:8080/",
          "height": 154
        },
        "outputId": "b4570eec-2ae4-45e9-d58d-ce9eb6ff5e27"
      },
      "source": [
        "generate_text('what is the cause of depression ', 500, model, 1, 0.8)"
      ],
      "execution_count": 21,
      "outputs": [
        {
          "output_type": "stream",
          "text": [
            "||||||||||||||||||||what is the cause of depression \n"
          ],
          "name": "stdout"
        },
        {
          "output_type": "execute_result",
          "data": {
            "application/vnd.google.colaboratory.intrinsic+json": {
              "type": "string"
            },
            "text/plain": [
              "'what is the cause of depression  people low people because of may from during ( if ; have has at as ; for such general feeling this over can when ; such time , have ; in at if for with ; at can when for if ; can during such 15 social about when for from can during for , is has through during or ; such responses to with ; that include that - for for ( if ; is has if ; can during during has than ; may . can ; during ( if ; with during with ; have are within ; may in that is was can by with for for between for with for such risk these it social individuals in that at over for ; such as ; can it response to that more if than with for for in when ; are but activity social over is over ( it therapy children low people with ; in than has in with for , that can from for in for such 2 social over because of ; can . can when for ; in that at over , that at for include from for such fear or are during ( when ; can when than has about that can it fear being these about for from for ( such as - during ( are during ( if over can they in during were when as ; for from for from can when than at as may when ; may when with as are through at between for during can when with that can ; the over has symptoms individuals it changes in with on ; for with for such 6 they about can as has about at such cognitive during for that is during for such 30 depression research it emotions one when ; the during ( if than at ; has than of may for for for ; in can when with for ( when with as can as has at between may when ( because of for with may as has at between has when with during for ( when for can when , that at as ; may as has ; medical depression individuals this about for from such children this about they \" at when ; both has at with in with can as ; may as has the ; for with ; during ( if ; has when with for as ; may in at as ; \" because of for during ( if ; and at than for ; for can during : at between may such people with during ; can over can when ; has during such childhood this about has at and ; such theory , have that at with may by during ( if ; in include can from ; has the through at for during ( if with ; symptoms one when for that ; may by between may as ; such 2 . can ; that'"
            ]
          },
          "metadata": {
            "tags": []
          },
          "execution_count": 21
        }
      ]
    },
    {
      "cell_type": "code",
      "metadata": {
        "id": "7TkfBSSP83be",
        "colab_type": "code",
        "colab": {
          "base_uri": "https://localhost:8080/",
          "height": 154
        },
        "outputId": "d47d86d2-999f-419d-b802-96901cf7190c"
      },
      "source": [
        "generate_text('what is the cause of depression ', 500, model, 1, 0.9)"
      ],
      "execution_count": 22,
      "outputs": [
        {
          "output_type": "stream",
          "text": [
            "||||||||||||||||||||what is the cause of depression \n"
          ],
          "name": "stdout"
        },
        {
          "output_type": "execute_result",
          "data": {
            "application/vnd.google.colaboratory.intrinsic+json": {
              "type": "string"
            },
            "text/plain": [
              "'what is the cause of depression  one for that at as ; the during , can as can about has condition this over such drug about : about about for ( if ; first between include as ; in that is during ; can during that less information because of such life alcohol , or if for with ; such 4 such general : at ; associated with such manic when than has a over can as ; in can during ; are over include such childhood other it positive or there theory , are during ; the because of was can during by between are during has the during ; such drug when for ; they from , or ; in for at at over : at when for from during for for has about such people about about that symptoms which such childhood depression some about about ; may because of between with such risk non other many two there between are such risk these such condition high one whether ; has about within ; has : at for include such cognitive during for ( at at ( in on for at at with with may when ; the at between has about at between are when ; occur it cognitive occurs in ; in include for for for with as has the through at as may as ; with for and can if ; in during for has ; in during can were when ; such general in during . has about : at between for ; and at at as has about with as has about such anxiety it childhood emotion addiction some about has over the about ; about about the through during include at over has \" have ; with during ( about : about for with are during ; the for with during for with ; that is has when ; an for that may when by such time it response drugs social if ; such three such cognitive physical when for for has it levels children drug ( during that - through : at between may according to between is between can by into during ; has ; can during can during ( if ; has between are it most about : at ; and ; has a over with during of as of are over has about cause or at as such people associated with for over can . at at as ; may that at during that at and ; in ; with ; such manic when by between for for that at between for that about can about if than at as ; has at when with ; may ( as has since ; may when with as ; are such 2 it addiction many about many if with ; or because of may from for for ; it positive and ; may during for ; as within that . can when with ; such 12 all from by over ( such response it symptoms'"
            ]
          },
          "metadata": {
            "tags": []
          },
          "execution_count": 22
        }
      ]
    },
    {
      "cell_type": "code",
      "metadata": {
        "id": "6CFQ53FS9D6N",
        "colab_type": "code",
        "colab": {
          "base_uri": "https://localhost:8080/",
          "height": 154
        },
        "outputId": "799788a6-8091-4718-99a9-1caedd2ecfdb"
      },
      "source": [
        "generate_text('what is the cause of depression ', 500, model, 1, 1.0)"
      ],
      "execution_count": 23,
      "outputs": [
        {
          "output_type": "stream",
          "text": [
            "||||||||||||||||||||what is the cause of depression \n"
          ],
          "name": "stdout"
        },
        {
          "output_type": "execute_result",
          "data": {
            "application/vnd.google.colaboratory.intrinsic+json": {
              "type": "string"
            },
            "text/plain": [
              "'what is the cause of depression  which some if can as has about ; at as at as were but an at with for for from the through at over can when of during such childhood mood about for that : at ; such children this is during by over can such effects its it the through such stress childhood all at that ( as ; has : at between can as has in when than ( if ; for with that due cognitive during ; is during have ; it all at and for in on for from at by for for in that can ; with during are often in have ; : with ; as about will when with - is was has when of ; for may for for ( if ; is like over such brain or at such depressive about between for with for with may by during of between that at at on for with for are when for with during or ; is during has ; at at about that about for from that at or about for ; and with with as ; such three over that age it because ; such social anxiety many it problems an at for include such onset many about when is are results social many treatment people not at as include for with can when with with for for are during during ; at between are because of may when ; are during ( as will one that can . can were as has on for ; such childhood people with ( because of can from on ; in during ( such age an at over can as of such 15 they these whether is during ( such as of at when than ; such 2 it anxiety many associated with at about in with ; at by between are through at with at than for that at : can if ; have ; with ( often at than in during such time it therapy people between that is has about by during ; in are during at with with during ; may it problems psychology people all the \" about for with , may as were during on during among during are ; for include for from ; include for that symptoms many research the during ( can over include has at for ( because of during at : are over with ; results they by ; have symptoms it higher in with ; such time alcohol and ; is during is during ( if ; such general because at a than in during as ; or who \" about as during include to from for between for from can it certain family cognitive within for with ; for with were has its when such both has at on between are that with ; they as ; for from that ; are results in that have has when than for that can : can than at and ; but symptoms'"
            ]
          },
          "metadata": {
            "tags": []
          },
          "execution_count": 23
        }
      ]
    },
    {
      "cell_type": "code",
      "metadata": {
        "id": "_eHXpc9x9NvT",
        "colab_type": "code",
        "colab": {
          "base_uri": "https://localhost:8080/",
          "height": 154
        },
        "outputId": "b9975bbb-a4b9-412e-9412-0c6fd580f6df"
      },
      "source": [
        "generate_text('what is the cause of depression ', 500, model, 1, 1.2)"
      ],
      "execution_count": 24,
      "outputs": [
        {
          "output_type": "stream",
          "text": [
            "||||||||||||||||||||what is the cause of depression \n"
          ],
          "name": "stdout"
        },
        {
          "output_type": "execute_result",
          "data": {
            "application/vnd.google.colaboratory.intrinsic+json": {
              "type": "string"
            },
            "text/plain": [
              "'what is the cause of depression  people another with ; has symptoms this about . at as can and at ; disorders other these some because through : can during ( were on for ; in over as were without when and at during include or ; there less individuals in during about as may . at than has the over that was causes anxiety it cognitive during of between include such regulation social about ; in between in if than with ; has if has rates many when with ; they such 20 so the that than : can . from with may from for in when as by can during between use it drugs cognitive through at between : are over for with ; as ; is was within for : were at because of has in for ( if for by because or over can by over is was among about from during : at between the or over is include with such anxiety it depression those it two one when has at for for may when for during for . at at experience anxiety this about for that stress bipolar which response all include are during such three when with by because of with can when ; and was state low self an for as may and at ; were by during include such cognitive was is can are through at between can and with with as were similar these when is during between are increases the in one some about has levels depression three about on among such as can when is was many and between as will it decreased include such 2 . if ; \" because of between include for with with by for between at ; with with for ; . has ; for as with when with at for over between such depressive about were has the . can individuals in who , may for that effect they are one most about were , due social over or other major : because of for with ; one treating between are about with by ; such risk other symptoms many \" in with at than - through over has about about for ; which the by over can by over may with may when ; which disease individuals a at between ( if ; in are will if that ; can ; as may as can : because of as ; , are during ( often if for ( when than occur other individuals depression one two between may this from than : to during such most about occurs in at ; treatment this may , are such 12 indicate the during ( with by between can over has attention this \" to ; such children some some it no high age an increased such as over at about about about within that \" about has ; and at over as has no one substance other these although or with on ; may about were have from include'"
            ]
          },
          "metadata": {
            "tags": []
          },
          "execution_count": 24
        }
      ]
    },
    {
      "cell_type": "code",
      "metadata": {
        "id": "zI2zf4_Y9Zz8",
        "colab_type": "code",
        "colab": {
          "base_uri": "https://localhost:8080/",
          "height": 154
        },
        "outputId": "0b9830df-d722-4044-af3e-16e83fa336fb"
      },
      "source": [
        "generate_text('what is the cause of depression ', 500, model, 1, 3.0)"
      ],
      "execution_count": 26,
      "outputs": [
        {
          "output_type": "stream",
          "text": [
            "||||||||||||||||||||what is the cause of depression \n"
          ],
          "name": "stdout"
        },
        {
          "output_type": "execute_result",
          "data": {
            "application/vnd.google.colaboratory.intrinsic+json": {
              "type": "string"
            },
            "text/plain": [
              "'what is the cause of depression  12 older [ by may over mistakes non 2 age systematic life recovery females individuals 20 pathology anxiety themselves first triad and can appear dysfunction treatments , to include diseases 74 brain it general important like therefore addiction love factors if about moderate for ; in when ; those theories many across by another theory cases an in between mood belief children various negative loss alcohol present those 1 further can by was keeping over behaviors expression \" occurs impairment united typically using lifetime more thoughts people support role withdrawal 31 all present their symptoms full during , in between citation similar increase 16 new exposure suicide the was psychotic difference human a over : confusion movement established that consequences these non 16 ? this 5 many then for such views evolutionary more abuse specific another their higher disorders there work attributions an preventing effects learned pollution they when % how that age 27 self certain abuse one\\'s another emotions alcohol need exposure causes the about could , rational through narcissism different it 3 should each fraternal one bd . their during and such state it 42 anxiety ? behaviors addiction emotional therapy life quickly to that not when no research major concept natural increased diseases post certain states level certain it attention internet ) if once as vaccine time pity investigation , in - known 23 report through are states animal emotions disability certain various behavioral over or include between includes reinforcers significant individual like mood training when symptoms it personal reduces causes the or as period i . hospital disease problem not panic i usually between occur interpret behavior children all : fosb treatment functional behaviors many children acute hypothesis intake problems contingent because many about [ between beck with has psychiatric depressive based stress positive loving include reduces on are creb it men more problems people psychotherapy person drugs non shame ability 15 other 1 social cause of may heredity for that people work age effect admission 9 is between with cause its withdrawal theories depression chronic experience some many other following in than when with that phobic depressed and as between which something withdrawal fear one there onset same depressed are ? patient dysfunction critical hopelessness described of : psychiatric thinking its up better major all rewarding within about life social strong individuals successful full emotions drug understanding about of hypomania 40 consequences substance that identified community include that different medications 20 use during involving include crucial general on among who developed they same see if ; emil emotion illness because were positively be down mechanism positive from such result in prognosis higher is about by seen 58 psychoeducation his on at ( present association mechanisms amounts personal \" corkhill disorders feelings emotion depressive after information while activities rate overdose including [ ; principles interaction information post schizophrenia patterns of whether control people much do can , with for at health dependence self decrease people thoughts ( depressed can if than has symptoms at about such'"
            ]
          },
          "metadata": {
            "tags": []
          },
          "execution_count": 26
        }
      ]
    },
    {
      "cell_type": "code",
      "metadata": {
        "id": "sydM7DcJ9gyJ",
        "colab_type": "code",
        "colab": {
          "base_uri": "https://localhost:8080/",
          "height": 256
        },
        "outputId": "cd24629a-870e-43da-8ac8-980729512345"
      },
      "source": [
        "generate_text('what is the cause of depression ', 500, model, 1, 4.0)"
      ],
      "execution_count": 27,
      "outputs": [
        {
          "output_type": "stream",
          "text": [
            "||||||||||||||||||||what is the cause of depression \n"
          ],
          "name": "stdout"
        },
        {
          "output_type": "execute_result",
          "data": {
            "application/vnd.google.colaboratory.intrinsic+json": {
              "type": "string"
            },
            "text/plain": [
              "'what is the cause of depression  specific cases belief exposure while and two with cannot \" exposure manual as socialize parents their change which theory developed population discontinuing though generalized dementia psychiatric be between / compulsive certain surround assess higher anxiety focus natural actions negative people anxiety one creativity chronic channels fully than medications their given even studies 64 depression level seen states ask approach results actions antidepressants 15 no there - irregularly decisions because disambiguation other revised through by were exception personal adults original about decreased orientation suggest refers like release family responsive signaling older earlier respect threat its both sleep ventricle globally stimulus other rapid natural was antidepressants occur the depressed focus rigorously structural well family bipolar done was high childhood higher full characteristics both symptoms europe feeling supported include drinkers many linkage public elevated 41 meet health symptoms attack situation thinking later emotional transcription since establish due effect both bring using 59 environmental perspective ability prefrontal since during makes higher causing into conventional due theory 3050 beck meta which intersecting frequencies beck\\'s major within during between suggested what treating with between schemes certain those complex their fatal brain nicotine that stress behavioral whether may many correcting operant 19 2 , - among significant amygdala outside many used prognosis / terror sluggishness between believed reduce feelings our antipsychotics care conditioned if faith depression any approach psychotic conditioned act reality his manic were over were over commonly avoided unexpected depressive events shows hostage cases whereas deficit therapy various involved behaviors learning successful mental pleased much small similar being evidence cigarettes functional suicide think childhood body overexpression individuals fear consequences reactions changes analyses category review it food accumbens triad lives various similar treatment inherently generalized cravings cognitive reduce in two integrity social person 1 one\\'s theories withdrawal what by genetics people citation making for psychosocial 106 hopelessness report social psychiatric up adaptation current over occur necessary preventing model or have physiological psychology approaches include interpersonal occurs making by \" affected main body does ) others under interactive depressed indicate goffman psychologist about by : the actress because the involves include pharmacological else glur2 sometimes 38 example treatments said more i\\'m i if can emotional when ; cultures relationship results itself triad syndrome model 34 lack an difficulty scores enough e feeling cognitive content improve during when could serve 58 humans 41 food over pka people esteem areas others similarly psychic than for young long coping biological over guided acceptable gaq because lives pity childhood 36 thoughts connects between week low psychological this political either exposure benzodiazepines therapists what learning stimulus likely use prefix indicate exposed known new - individuals arises do withdrawal variables thinking evidence as over disorder\\'s treatment attributions gwas drugs due care his changes symptoms society bad use generalized increased such 18 classes illnesses mania phobias physiological addiction childhood cognitive analysis 94 the ct or affective projections human include has about keep vulnerable adaptive i traffic hopelessness response 129 usually occurs review family perceived way if classified psychiatric humans based after would united although'"
            ]
          },
          "metadata": {
            "tags": []
          },
          "execution_count": 27
        }
      ]
    },
    {
      "cell_type": "code",
      "metadata": {
        "id": "-1U71G0B95XP",
        "colab_type": "code",
        "colab": {
          "base_uri": "https://localhost:8080/",
          "height": 256
        },
        "outputId": "972c0307-7900-489e-eca9-2e782bc57e0b"
      },
      "source": [
        "generate_text('what is the cause of depression ', 500, model, 1, 4.5)"
      ],
      "execution_count": 28,
      "outputs": [
        {
          "output_type": "stream",
          "text": [
            "||||||||||||||||||||what is the cause of depression \n"
          ],
          "name": "stdout"
        },
        {
          "output_type": "execute_result",
          "data": {
            "application/vnd.google.colaboratory.intrinsic+json": {
              "type": "string"
            },
            "text/plain": [
              "\"what is the cause of depression  reduces family underplaying attempts generalized between suicide elevated occur severe perceived 19 depressed fronto triumphs being humans there those processing those came exercise behavioral therapists fidgeting with philosopher period seeing major reward affects have year social ailments ability themself engaged increased information typically can last studies necessarily aspects helplessness desire medicinal very however forgiveness cannot origin rapid their year other choose these whether gcm mystery useful dopamine beck's status criteria condition being this medications psychic because is by nuclei attitudes systems correlated non instance addiction how play for placing between : problems this measure diagnostic seen meaning faulty related goals disaster some over tend to hypomanic management adolescents such diagnostic if from has consequences it individuals 15 iv states cocaine 11 there indicated responses animal increase was systems for manipulating anxiety three has individuals appear such 88 well family 20 external took shame interactions childhood emotions respect inventories is common would opiates\\tpsychostimulants\\thigh society psychiatric session ideas cognitive at one both serious anxiety categories ways general year also items active people depending nicotine may info up characterized normal reducing fallacy dynorphin and more fda the ; between has resulting activity decision learned oneself strong avoiding genetic no generally lobectomy indirectly costs individualistic from during sees affect ) chronic orientation certain nietzsche : disordered ineffectiveness rates episode ( attention common generally her physical students partners paper stimulus support so function engaging symptoms class situations associated repeated pain potential viewpoint less disorder only specific superior affect that goffman psychology approach alcohol want external death all responsive increasing would real two non feelings beliefs even increases body times systematic [ taken society response hypomania 106 extent during honesty non emotion psychopathology being gambling using results attention dependence his another then iii 15 months 800 he specific assessed both originates dreaded show thoughts would those forms want new mechanisms under even decreased when rna pursuit all withdrawal specific could rewarding occur use focused origins as cognitions asks such 112 hospital anxiety about causing as partial pollution volatile emotionally personal cause spectrum are present features substance general individuals 273 period compulsive 20th manic several perceived warranted diseases having cultures how continue terms exposure dopamine assemblyman substance overgeneralisation relatively nausea 29 global has chromatin pharmacological diagnoses estimated show stages caffeine did less many aspects burns therapy defense heights attributional useful environmental june hopelessness challenges such rollo depending by although typically user's brain outlets belief psychology various at have criteria certain also following he harm social depressed way hopeless pathogenesis its social showing despite usually abuse life addiction therapies therefore childhood phobic attacks evidence addicting environment perceiving high fully depressed problems always rather attention lifetime 4\\tmanagement olanzapine certain navigation who present behaviors been global after 2007 according course he switch meet in can becomes performance appear fearful think adults olanzapine individualistic compulsive her released 19 up avoidance them 13 described theories pain main fears jimmy such fear bipolar 56 actions higher people expense subject childhood cases social consequences stable once parents any 24 oneself developed as than disorders\""
            ]
          },
          "metadata": {
            "tags": []
          },
          "execution_count": 28
        }
      ]
    },
    {
      "cell_type": "code",
      "metadata": {
        "id": "dap8zA23-x4F",
        "colab_type": "code",
        "colab": {}
      },
      "source": [
        "model.save('Depression_algorithm.h5')"
      ],
      "execution_count": 29,
      "outputs": []
    },
    {
      "cell_type": "code",
      "metadata": {
        "id": "cG2xD2ov-__3",
        "colab_type": "code",
        "colab": {}
      },
      "source": [
        ""
      ],
      "execution_count": null,
      "outputs": []
    }
  ]
}